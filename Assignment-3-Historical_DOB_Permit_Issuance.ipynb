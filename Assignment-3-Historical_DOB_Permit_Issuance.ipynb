{
 "cells": [
  {
   "cell_type": "markdown",
   "id": "4b57b7e8",
   "metadata": {},
   "source": [
    "This notebook contains code to profile and clean the Historical DOB Permit Issuance data found here https://data.cityofnewyork.us/Housing-Development/Historical-DOB-Permit-Issuance/bty7-2jhb"
   ]
  },
  {
   "cell_type": "markdown",
   "id": "72ef9e51",
   "metadata": {},
   "source": [
    "# Download Dataset"
   ]
  },
  {
   "cell_type": "code",
   "execution_count": 1,
   "id": "7b3bf577",
   "metadata": {},
   "outputs": [
    {
     "name": "stdout",
     "output_type": "stream",
     "text": [
      "Using \"Historical DOB Permit Issuance\" in file ./bty7-2jhb.tsv.gz of size 321.34 MB\n"
     ]
    }
   ],
   "source": [
    "import gzip\n",
    "import os\n",
    "import humanfriendly\n",
    "import numpy as np\n",
    "import pandas as pd\n",
    "\n",
    "from openclean.data.source.socrata import Socrata\n",
    "\n",
    "import warnings\n",
    "warnings.filterwarnings('ignore')\n",
    "\n",
    "# Unique id for Historical DOB Permit Issuance data set\n",
    "db_id = 'bty7-2jhb'\n",
    "dataset = Socrata().dataset(db_id)\n",
    "\n",
    "datafile = f'./{db_id}.tsv.gz'\n",
    "\n",
    "# Download file if it doesn't exist\n",
    "if not os.path.isfile(datafile):\n",
    "    with gzip.open(datafile, 'wb') as  f:\n",
    "        print('Downloading ...\\n')\n",
    "        dataset.write(f)\n",
    "\n",
    "fsize = humanfriendly.format_size(os.stat(datafile).st_size)\n",
    "print(f'Using \"{dataset.name}\" in file {datafile} of size {fsize}')\n"
   ]
  },
  {
   "cell_type": "markdown",
   "id": "ad23e12e",
   "metadata": {},
   "source": [
    "# Profiling the Data"
   ]
  },
  {
   "cell_type": "markdown",
   "id": "643ed495",
   "metadata": {},
   "source": [
    "We load the data in using opencleans stream method."
   ]
  },
  {
   "cell_type": "code",
   "execution_count": 2,
   "id": "9d88244a",
   "metadata": {},
   "outputs": [],
   "source": [
    "from openclean.pipeline import stream\n",
    "\n",
    "ds_full = stream(datafile)"
   ]
  },
  {
   "cell_type": "markdown",
   "id": "a7b154f0",
   "metadata": {},
   "source": [
    "Profiling the data to get the data type for each column"
   ]
  },
  {
   "cell_type": "code",
   "execution_count": 3,
   "id": "1c38bc1a",
   "metadata": {},
   "outputs": [
    {
     "name": "stdout",
     "output_type": "stream",
     "text": [
      "Schema\n",
      "------\n",
      "  'BOROUGH' (str)\n",
      "  'BIN' (int)\n",
      "  'Number' (str)\n",
      "  'Street' (str)\n",
      "  'Job #' (int)\n",
      "  'Job doc. #' (int)\n",
      "  'Job Type' (str)\n",
      "  'Self_Cert' (str)\n",
      "  'Block' (int)\n",
      "  'Lot' (int)\n",
      "  'Community Board' (int)\n",
      "  'Postcode' (int)\n",
      "  'Bldg Type' (int)\n",
      "  'Residential' (str)\n",
      "  'Special District 1' (str)\n",
      "  'Special District 2' (str)\n",
      "  'Work Type' (str)\n",
      "  'Permit Status' (str)\n",
      "  'Filing Status' (str)\n",
      "  'Permit Type' (str)\n",
      "  'Permit Sequence #' (int)\n",
      "  'Permit Subtype' (str)\n",
      "  'Oil Gas' (str)\n",
      "  'Site Fill' (str)\n",
      "  'Filing Date' (date)\n",
      "  'Issuance Date' (date)\n",
      "  'Expiration Date' (date)\n",
      "  'Job Start Date' (date)\n",
      "  'Permittee's First Name' (str)\n",
      "  'Permittee's Last Name' (str)\n",
      "  'Permittee's Business Name' (str)\n",
      "  'Permittee's Phone #' (int)\n",
      "  'Permittee's License Type' (str)\n",
      "  'Permittee's License #' (int)\n",
      "  'Act as Superintendent' (str)\n",
      "  'Permittee's Other Title' (str)\n",
      "  'HIC License' (int)\n",
      "  'Site Safety Mgr's First Name' (str)\n",
      "  'Site Safety Mgr's Last Name' (str)\n",
      "  'Site Safety Mgr Business Name' (str)\n",
      "  'Superintendent First & Last Name' (str)\n",
      "  'Superintendent Business Name' (str)\n",
      "  'Owner's Business Type' (str)\n",
      "  'Non-Profit' (str)\n",
      "  'Owner's Business Name' (str)\n",
      "  'Owner's First Name' (str)\n",
      "  'Owner's Last Name' (str)\n",
      "  'Owner's House #' (str)\n",
      "  'Owner's House Street Name' (str)\n",
      "  'Owner’s House City' (str)\n",
      "  'Owner’s House State' (str)\n",
      "  'Owner’s House Zip Code' (int)\n",
      "  'Owner's Phone #' (int)\n",
      "  'DOBRunDate' (date)\n",
      "  'Latitude' (float)\n",
      "  'Longitude' (float)\n",
      "  'Council District' (int)\n",
      "  'Census Tract' (int)\n",
      "  'BBL' (int)\n",
      "  'NTA' (str)\n"
     ]
    }
   ],
   "source": [
    "from openclean.profiling.column import DefaultColumnProfiler\n",
    "\n",
    "# Print the most frequent data type for each column.\n",
    "\n",
    "print('Schema\\n------')\n",
    "profiles = ds_full.profile(default_profiler=DefaultColumnProfiler)\n",
    "for col in ds_full.columns:\n",
    "    p = profiles.column(col)\n",
    "    print(\"  '{}' ({})\".format(col, p['datatypes']['distinct'].most_common(1)[0][0]))\n"
   ]
  },
  {
   "cell_type": "markdown",
   "id": "56d4c992",
   "metadata": {},
   "source": [
    "We used openclean profiles to create a summary of the stats for each column."
   ]
  },
  {
   "cell_type": "code",
   "execution_count": 4,
   "id": "9a7c96ad",
   "metadata": {},
   "outputs": [
    {
     "data": {
      "text/html": [
       "<div>\n",
       "<style scoped>\n",
       "    .dataframe tbody tr th:only-of-type {\n",
       "        vertical-align: middle;\n",
       "    }\n",
       "\n",
       "    .dataframe tbody tr th {\n",
       "        vertical-align: top;\n",
       "    }\n",
       "\n",
       "    .dataframe thead th {\n",
       "        text-align: right;\n",
       "    }\n",
       "</style>\n",
       "<table border=\"1\" class=\"dataframe\">\n",
       "  <thead>\n",
       "    <tr style=\"text-align: right;\">\n",
       "      <th></th>\n",
       "      <th>total</th>\n",
       "      <th>empty</th>\n",
       "      <th>distinct</th>\n",
       "      <th>uniqueness</th>\n",
       "      <th>entropy</th>\n",
       "    </tr>\n",
       "  </thead>\n",
       "  <tbody>\n",
       "    <tr>\n",
       "      <th>BOROUGH</th>\n",
       "      <td>2428526</td>\n",
       "      <td>0</td>\n",
       "      <td>5</td>\n",
       "      <td>2.058862e-06</td>\n",
       "      <td>2.045161</td>\n",
       "    </tr>\n",
       "    <tr>\n",
       "      <th>BIN</th>\n",
       "      <td>2428526</td>\n",
       "      <td>0</td>\n",
       "      <td>300024</td>\n",
       "      <td>1.235416e-01</td>\n",
       "      <td>16.764061</td>\n",
       "    </tr>\n",
       "    <tr>\n",
       "      <th>Number</th>\n",
       "      <td>2428526</td>\n",
       "      <td>4</td>\n",
       "      <td>28639</td>\n",
       "      <td>1.179277e-02</td>\n",
       "      <td>11.933581</td>\n",
       "    </tr>\n",
       "    <tr>\n",
       "      <th>Street</th>\n",
       "      <td>2428526</td>\n",
       "      <td>4</td>\n",
       "      <td>20201</td>\n",
       "      <td>8.318228e-03</td>\n",
       "      <td>11.223448</td>\n",
       "    </tr>\n",
       "    <tr>\n",
       "      <th>Job #</th>\n",
       "      <td>2428526</td>\n",
       "      <td>0</td>\n",
       "      <td>1110544</td>\n",
       "      <td>4.572914e-01</td>\n",
       "      <td>19.723021</td>\n",
       "    </tr>\n",
       "    <tr>\n",
       "      <th>Job doc. #</th>\n",
       "      <td>2428526</td>\n",
       "      <td>0</td>\n",
       "      <td>12</td>\n",
       "      <td>4.941269e-06</td>\n",
       "      <td>0.496506</td>\n",
       "    </tr>\n",
       "    <tr>\n",
       "      <th>Job Type</th>\n",
       "      <td>2428526</td>\n",
       "      <td>0</td>\n",
       "      <td>6</td>\n",
       "      <td>2.470634e-06</td>\n",
       "      <td>1.855338</td>\n",
       "    </tr>\n",
       "    <tr>\n",
       "      <th>Self_Cert</th>\n",
       "      <td>2428526</td>\n",
       "      <td>1527841</td>\n",
       "      <td>1</td>\n",
       "      <td>1.110266e-06</td>\n",
       "      <td>0.000000</td>\n",
       "    </tr>\n",
       "    <tr>\n",
       "      <th>Block</th>\n",
       "      <td>2428526</td>\n",
       "      <td>498</td>\n",
       "      <td>13625</td>\n",
       "      <td>5.611550e-03</td>\n",
       "      <td>12.545550</td>\n",
       "    </tr>\n",
       "    <tr>\n",
       "      <th>Lot</th>\n",
       "      <td>2428526</td>\n",
       "      <td>507</td>\n",
       "      <td>1718</td>\n",
       "      <td>7.075727e-04</td>\n",
       "      <td>6.659702</td>\n",
       "    </tr>\n",
       "    <tr>\n",
       "      <th>Community Board</th>\n",
       "      <td>2428526</td>\n",
       "      <td>2852</td>\n",
       "      <td>140</td>\n",
       "      <td>5.771592e-05</td>\n",
       "      <td>5.510861</td>\n",
       "    </tr>\n",
       "    <tr>\n",
       "      <th>Postcode</th>\n",
       "      <td>2428526</td>\n",
       "      <td>1050</td>\n",
       "      <td>227</td>\n",
       "      <td>9.351277e-05</td>\n",
       "      <td>7.191489</td>\n",
       "    </tr>\n",
       "    <tr>\n",
       "      <th>Bldg Type</th>\n",
       "      <td>2428526</td>\n",
       "      <td>54279</td>\n",
       "      <td>2</td>\n",
       "      <td>8.423723e-07</td>\n",
       "      <td>0.807339</td>\n",
       "    </tr>\n",
       "    <tr>\n",
       "      <th>Residential</th>\n",
       "      <td>2428526</td>\n",
       "      <td>1655754</td>\n",
       "      <td>1</td>\n",
       "      <td>1.294043e-06</td>\n",
       "      <td>0.000000</td>\n",
       "    </tr>\n",
       "    <tr>\n",
       "      <th>Special District 1</th>\n",
       "      <td>2428526</td>\n",
       "      <td>2241934</td>\n",
       "      <td>82</td>\n",
       "      <td>4.394615e-04</td>\n",
       "      <td>4.465811</td>\n",
       "    </tr>\n",
       "    <tr>\n",
       "      <th>Special District 2</th>\n",
       "      <td>2428526</td>\n",
       "      <td>2425887</td>\n",
       "      <td>14</td>\n",
       "      <td>5.305040e-03</td>\n",
       "      <td>2.093299</td>\n",
       "    </tr>\n",
       "    <tr>\n",
       "      <th>Work Type</th>\n",
       "      <td>2428526</td>\n",
       "      <td>453969</td>\n",
       "      <td>13</td>\n",
       "      <td>6.583755e-06</td>\n",
       "      <td>2.522478</td>\n",
       "    </tr>\n",
       "    <tr>\n",
       "      <th>Permit Status</th>\n",
       "      <td>2428526</td>\n",
       "      <td>8905</td>\n",
       "      <td>4</td>\n",
       "      <td>1.653151e-06</td>\n",
       "      <td>0.108870</td>\n",
       "    </tr>\n",
       "    <tr>\n",
       "      <th>Filing Status</th>\n",
       "      <td>2428526</td>\n",
       "      <td>0</td>\n",
       "      <td>2</td>\n",
       "      <td>8.235448e-07</td>\n",
       "      <td>0.790975</td>\n",
       "    </tr>\n",
       "    <tr>\n",
       "      <th>Permit Type</th>\n",
       "      <td>2428526</td>\n",
       "      <td>1</td>\n",
       "      <td>8</td>\n",
       "      <td>3.294181e-06</td>\n",
       "      <td>2.277170</td>\n",
       "    </tr>\n",
       "    <tr>\n",
       "      <th>Permit Sequence #</th>\n",
       "      <td>2428526</td>\n",
       "      <td>0</td>\n",
       "      <td>26</td>\n",
       "      <td>1.070608e-05</td>\n",
       "      <td>1.185723</td>\n",
       "    </tr>\n",
       "    <tr>\n",
       "      <th>Permit Subtype</th>\n",
       "      <td>2428526</td>\n",
       "      <td>1010293</td>\n",
       "      <td>15</td>\n",
       "      <td>1.057654e-05</td>\n",
       "      <td>2.645730</td>\n",
       "    </tr>\n",
       "    <tr>\n",
       "      <th>Oil Gas</th>\n",
       "      <td>2428526</td>\n",
       "      <td>2397492</td>\n",
       "      <td>2</td>\n",
       "      <td>6.444545e-05</td>\n",
       "      <td>0.321915</td>\n",
       "    </tr>\n",
       "    <tr>\n",
       "      <th>Site Fill</th>\n",
       "      <td>2428526</td>\n",
       "      <td>167703</td>\n",
       "      <td>5</td>\n",
       "      <td>2.211584e-06</td>\n",
       "      <td>1.352738</td>\n",
       "    </tr>\n",
       "    <tr>\n",
       "      <th>Filing Date</th>\n",
       "      <td>2428526</td>\n",
       "      <td>0</td>\n",
       "      <td>6415</td>\n",
       "      <td>2.641520e-03</td>\n",
       "      <td>12.390178</td>\n",
       "    </tr>\n",
       "    <tr>\n",
       "      <th>Issuance Date</th>\n",
       "      <td>2428526</td>\n",
       "      <td>0</td>\n",
       "      <td>6409</td>\n",
       "      <td>2.639049e-03</td>\n",
       "      <td>12.388735</td>\n",
       "    </tr>\n",
       "    <tr>\n",
       "      <th>Expiration Date</th>\n",
       "      <td>2428526</td>\n",
       "      <td>4</td>\n",
       "      <td>9024</td>\n",
       "      <td>3.715840e-03</td>\n",
       "      <td>12.106712</td>\n",
       "    </tr>\n",
       "    <tr>\n",
       "      <th>Job Start Date</th>\n",
       "      <td>2428526</td>\n",
       "      <td>3</td>\n",
       "      <td>7475</td>\n",
       "      <td>3.078003e-03</td>\n",
       "      <td>12.393051</td>\n",
       "    </tr>\n",
       "    <tr>\n",
       "      <th>Permittee's First Name</th>\n",
       "      <td>2428526</td>\n",
       "      <td>5</td>\n",
       "      <td>35867</td>\n",
       "      <td>1.476907e-02</td>\n",
       "      <td>9.209182</td>\n",
       "    </tr>\n",
       "    <tr>\n",
       "      <th>Permittee's Last Name</th>\n",
       "      <td>2428526</td>\n",
       "      <td>5</td>\n",
       "      <td>85625</td>\n",
       "      <td>3.525809e-02</td>\n",
       "      <td>12.373612</td>\n",
       "    </tr>\n",
       "    <tr>\n",
       "      <th>Permittee's Business Name</th>\n",
       "      <td>2428526</td>\n",
       "      <td>11</td>\n",
       "      <td>351178</td>\n",
       "      <td>1.446061e-01</td>\n",
       "      <td>15.607873</td>\n",
       "    </tr>\n",
       "    <tr>\n",
       "      <th>Permittee's Phone #</th>\n",
       "      <td>2428526</td>\n",
       "      <td>304</td>\n",
       "      <td>145121</td>\n",
       "      <td>5.976430e-02</td>\n",
       "      <td>13.505126</td>\n",
       "    </tr>\n",
       "    <tr>\n",
       "      <th>Permittee's License Type</th>\n",
       "      <td>2428526</td>\n",
       "      <td>254952</td>\n",
       "      <td>11</td>\n",
       "      <td>5.060789e-06</td>\n",
       "      <td>1.633251</td>\n",
       "    </tr>\n",
       "    <tr>\n",
       "      <th>Permittee's License #</th>\n",
       "      <td>2428526</td>\n",
       "      <td>221196</td>\n",
       "      <td>46746</td>\n",
       "      <td>2.117762e-02</td>\n",
       "      <td>12.312464</td>\n",
       "    </tr>\n",
       "    <tr>\n",
       "      <th>Act as Superintendent</th>\n",
       "      <td>2428526</td>\n",
       "      <td>833300</td>\n",
       "      <td>2</td>\n",
       "      <td>1.253741e-06</td>\n",
       "      <td>0.046731</td>\n",
       "    </tr>\n",
       "    <tr>\n",
       "      <th>Permittee's Other Title</th>\n",
       "      <td>2428526</td>\n",
       "      <td>2160267</td>\n",
       "      <td>2797</td>\n",
       "      <td>1.042649e-02</td>\n",
       "      <td>3.655180</td>\n",
       "    </tr>\n",
       "    <tr>\n",
       "      <th>HIC License</th>\n",
       "      <td>2428526</td>\n",
       "      <td>2401722</td>\n",
       "      <td>5512</td>\n",
       "      <td>2.056409e-01</td>\n",
       "      <td>10.406188</td>\n",
       "    </tr>\n",
       "    <tr>\n",
       "      <th>Site Safety Mgr's First Name</th>\n",
       "      <td>2428526</td>\n",
       "      <td>2417665</td>\n",
       "      <td>508</td>\n",
       "      <td>4.677286e-02</td>\n",
       "      <td>7.143244</td>\n",
       "    </tr>\n",
       "    <tr>\n",
       "      <th>Site Safety Mgr's Last Name</th>\n",
       "      <td>2428526</td>\n",
       "      <td>2417665</td>\n",
       "      <td>1237</td>\n",
       "      <td>1.138937e-01</td>\n",
       "      <td>9.062517</td>\n",
       "    </tr>\n",
       "    <tr>\n",
       "      <th>Site Safety Mgr Business Name</th>\n",
       "      <td>2428526</td>\n",
       "      <td>2419949</td>\n",
       "      <td>1259</td>\n",
       "      <td>1.467879e-01</td>\n",
       "      <td>8.241137</td>\n",
       "    </tr>\n",
       "    <tr>\n",
       "      <th>Superintendent First &amp; Last Name</th>\n",
       "      <td>2428526</td>\n",
       "      <td>796389</td>\n",
       "      <td>309030</td>\n",
       "      <td>1.893407e-01</td>\n",
       "      <td>15.775936</td>\n",
       "    </tr>\n",
       "    <tr>\n",
       "      <th>Superintendent Business Name</th>\n",
       "      <td>2428526</td>\n",
       "      <td>796510</td>\n",
       "      <td>307998</td>\n",
       "      <td>1.887224e-01</td>\n",
       "      <td>15.756969</td>\n",
       "    </tr>\n",
       "    <tr>\n",
       "      <th>Owner's Business Type</th>\n",
       "      <td>2428526</td>\n",
       "      <td>160995</td>\n",
       "      <td>14</td>\n",
       "      <td>6.174116e-06</td>\n",
       "      <td>1.986401</td>\n",
       "    </tr>\n",
       "    <tr>\n",
       "      <th>Non-Profit</th>\n",
       "      <td>2428526</td>\n",
       "      <td>2271228</td>\n",
       "      <td>1</td>\n",
       "      <td>6.357360e-06</td>\n",
       "      <td>0.000000</td>\n",
       "    </tr>\n",
       "    <tr>\n",
       "      <th>Owner's Business Name</th>\n",
       "      <td>2428526</td>\n",
       "      <td>243930</td>\n",
       "      <td>378166</td>\n",
       "      <td>1.731057e-01</td>\n",
       "      <td>14.060939</td>\n",
       "    </tr>\n",
       "    <tr>\n",
       "      <th>Owner's First Name</th>\n",
       "      <td>2428526</td>\n",
       "      <td>156863</td>\n",
       "      <td>75828</td>\n",
       "      <td>3.337995e-02</td>\n",
       "      <td>10.840708</td>\n",
       "    </tr>\n",
       "    <tr>\n",
       "      <th>Owner's Last Name</th>\n",
       "      <td>2428526</td>\n",
       "      <td>156869</td>\n",
       "      <td>147398</td>\n",
       "      <td>6.488568e-02</td>\n",
       "      <td>14.104710</td>\n",
       "    </tr>\n",
       "    <tr>\n",
       "      <th>Owner's House #</th>\n",
       "      <td>2428526</td>\n",
       "      <td>156923</td>\n",
       "      <td>35115</td>\n",
       "      <td>1.545825e-02</td>\n",
       "      <td>11.282417</td>\n",
       "    </tr>\n",
       "    <tr>\n",
       "      <th>Owner's House Street Name</th>\n",
       "      <td>2428526</td>\n",
       "      <td>156924</td>\n",
       "      <td>119853</td>\n",
       "      <td>5.276144e-02</td>\n",
       "      <td>13.013908</td>\n",
       "    </tr>\n",
       "    <tr>\n",
       "      <th>Owner’s House City</th>\n",
       "      <td>2428526</td>\n",
       "      <td>157034</td>\n",
       "      <td>11547</td>\n",
       "      <td>5.083443e-03</td>\n",
       "      <td>5.538437</td>\n",
       "    </tr>\n",
       "    <tr>\n",
       "      <th>Owner’s House State</th>\n",
       "      <td>2428526</td>\n",
       "      <td>157133</td>\n",
       "      <td>57</td>\n",
       "      <td>2.509473e-05</td>\n",
       "      <td>0.238192</td>\n",
       "    </tr>\n",
       "    <tr>\n",
       "      <th>Owner’s House Zip Code</th>\n",
       "      <td>2428526</td>\n",
       "      <td>162098</td>\n",
       "      <td>6785</td>\n",
       "      <td>2.993698e-03</td>\n",
       "      <td>7.599265</td>\n",
       "    </tr>\n",
       "    <tr>\n",
       "      <th>Owner's Phone #</th>\n",
       "      <td>2428526</td>\n",
       "      <td>201963</td>\n",
       "      <td>284545</td>\n",
       "      <td>1.277956e-01</td>\n",
       "      <td>15.448757</td>\n",
       "    </tr>\n",
       "    <tr>\n",
       "      <th>DOBRunDate</th>\n",
       "      <td>2428526</td>\n",
       "      <td>0</td>\n",
       "      <td>1</td>\n",
       "      <td>4.117724e-07</td>\n",
       "      <td>0.000000</td>\n",
       "    </tr>\n",
       "    <tr>\n",
       "      <th>Latitude</th>\n",
       "      <td>2428526</td>\n",
       "      <td>9516</td>\n",
       "      <td>200886</td>\n",
       "      <td>8.304472e-02</td>\n",
       "      <td>16.388935</td>\n",
       "    </tr>\n",
       "    <tr>\n",
       "      <th>Longitude</th>\n",
       "      <td>2428526</td>\n",
       "      <td>9516</td>\n",
       "      <td>206784</td>\n",
       "      <td>8.548290e-02</td>\n",
       "      <td>16.370527</td>\n",
       "    </tr>\n",
       "    <tr>\n",
       "      <th>Council District</th>\n",
       "      <td>2428526</td>\n",
       "      <td>9516</td>\n",
       "      <td>51</td>\n",
       "      <td>2.108301e-05</td>\n",
       "      <td>5.252724</td>\n",
       "    </tr>\n",
       "    <tr>\n",
       "      <th>Census Tract</th>\n",
       "      <td>2428526</td>\n",
       "      <td>9516</td>\n",
       "      <td>1326</td>\n",
       "      <td>5.481581e-04</td>\n",
       "      <td>9.490162</td>\n",
       "    </tr>\n",
       "    <tr>\n",
       "      <th>BBL</th>\n",
       "      <td>2428526</td>\n",
       "      <td>29590</td>\n",
       "      <td>281136</td>\n",
       "      <td>1.171920e-01</td>\n",
       "      <td>16.561952</td>\n",
       "    </tr>\n",
       "    <tr>\n",
       "      <th>NTA</th>\n",
       "      <td>2428526</td>\n",
       "      <td>8972</td>\n",
       "      <td>195</td>\n",
       "      <td>8.059337e-05</td>\n",
       "      <td>6.923259</td>\n",
       "    </tr>\n",
       "  </tbody>\n",
       "</table>\n",
       "</div>"
      ],
      "text/plain": [
       "                                    total    empty  distinct    uniqueness  \\\n",
       "BOROUGH                           2428526        0         5  2.058862e-06   \n",
       "BIN                               2428526        0    300024  1.235416e-01   \n",
       "Number                            2428526        4     28639  1.179277e-02   \n",
       "Street                            2428526        4     20201  8.318228e-03   \n",
       "Job #                             2428526        0   1110544  4.572914e-01   \n",
       "Job doc. #                        2428526        0        12  4.941269e-06   \n",
       "Job Type                          2428526        0         6  2.470634e-06   \n",
       "Self_Cert                         2428526  1527841         1  1.110266e-06   \n",
       "Block                             2428526      498     13625  5.611550e-03   \n",
       "Lot                               2428526      507      1718  7.075727e-04   \n",
       "Community Board                   2428526     2852       140  5.771592e-05   \n",
       "Postcode                          2428526     1050       227  9.351277e-05   \n",
       "Bldg Type                         2428526    54279         2  8.423723e-07   \n",
       "Residential                       2428526  1655754         1  1.294043e-06   \n",
       "Special District 1                2428526  2241934        82  4.394615e-04   \n",
       "Special District 2                2428526  2425887        14  5.305040e-03   \n",
       "Work Type                         2428526   453969        13  6.583755e-06   \n",
       "Permit Status                     2428526     8905         4  1.653151e-06   \n",
       "Filing Status                     2428526        0         2  8.235448e-07   \n",
       "Permit Type                       2428526        1         8  3.294181e-06   \n",
       "Permit Sequence #                 2428526        0        26  1.070608e-05   \n",
       "Permit Subtype                    2428526  1010293        15  1.057654e-05   \n",
       "Oil Gas                           2428526  2397492         2  6.444545e-05   \n",
       "Site Fill                         2428526   167703         5  2.211584e-06   \n",
       "Filing Date                       2428526        0      6415  2.641520e-03   \n",
       "Issuance Date                     2428526        0      6409  2.639049e-03   \n",
       "Expiration Date                   2428526        4      9024  3.715840e-03   \n",
       "Job Start Date                    2428526        3      7475  3.078003e-03   \n",
       "Permittee's First Name            2428526        5     35867  1.476907e-02   \n",
       "Permittee's Last Name             2428526        5     85625  3.525809e-02   \n",
       "Permittee's Business Name         2428526       11    351178  1.446061e-01   \n",
       "Permittee's Phone #               2428526      304    145121  5.976430e-02   \n",
       "Permittee's License Type          2428526   254952        11  5.060789e-06   \n",
       "Permittee's License #             2428526   221196     46746  2.117762e-02   \n",
       "Act as Superintendent             2428526   833300         2  1.253741e-06   \n",
       "Permittee's Other Title           2428526  2160267      2797  1.042649e-02   \n",
       "HIC License                       2428526  2401722      5512  2.056409e-01   \n",
       "Site Safety Mgr's First Name      2428526  2417665       508  4.677286e-02   \n",
       "Site Safety Mgr's Last Name       2428526  2417665      1237  1.138937e-01   \n",
       "Site Safety Mgr Business Name     2428526  2419949      1259  1.467879e-01   \n",
       "Superintendent First & Last Name  2428526   796389    309030  1.893407e-01   \n",
       "Superintendent Business Name      2428526   796510    307998  1.887224e-01   \n",
       "Owner's Business Type             2428526   160995        14  6.174116e-06   \n",
       "Non-Profit                        2428526  2271228         1  6.357360e-06   \n",
       "Owner's Business Name             2428526   243930    378166  1.731057e-01   \n",
       "Owner's First Name                2428526   156863     75828  3.337995e-02   \n",
       "Owner's Last Name                 2428526   156869    147398  6.488568e-02   \n",
       "Owner's House #                   2428526   156923     35115  1.545825e-02   \n",
       "Owner's House Street Name         2428526   156924    119853  5.276144e-02   \n",
       "Owner’s House City                2428526   157034     11547  5.083443e-03   \n",
       "Owner’s House State               2428526   157133        57  2.509473e-05   \n",
       "Owner’s House Zip Code            2428526   162098      6785  2.993698e-03   \n",
       "Owner's Phone #                   2428526   201963    284545  1.277956e-01   \n",
       "DOBRunDate                        2428526        0         1  4.117724e-07   \n",
       "Latitude                          2428526     9516    200886  8.304472e-02   \n",
       "Longitude                         2428526     9516    206784  8.548290e-02   \n",
       "Council District                  2428526     9516        51  2.108301e-05   \n",
       "Census Tract                      2428526     9516      1326  5.481581e-04   \n",
       "BBL                               2428526    29590    281136  1.171920e-01   \n",
       "NTA                               2428526     8972       195  8.059337e-05   \n",
       "\n",
       "                                    entropy  \n",
       "BOROUGH                            2.045161  \n",
       "BIN                               16.764061  \n",
       "Number                            11.933581  \n",
       "Street                            11.223448  \n",
       "Job #                             19.723021  \n",
       "Job doc. #                         0.496506  \n",
       "Job Type                           1.855338  \n",
       "Self_Cert                          0.000000  \n",
       "Block                             12.545550  \n",
       "Lot                                6.659702  \n",
       "Community Board                    5.510861  \n",
       "Postcode                           7.191489  \n",
       "Bldg Type                          0.807339  \n",
       "Residential                        0.000000  \n",
       "Special District 1                 4.465811  \n",
       "Special District 2                 2.093299  \n",
       "Work Type                          2.522478  \n",
       "Permit Status                      0.108870  \n",
       "Filing Status                      0.790975  \n",
       "Permit Type                        2.277170  \n",
       "Permit Sequence #                  1.185723  \n",
       "Permit Subtype                     2.645730  \n",
       "Oil Gas                            0.321915  \n",
       "Site Fill                          1.352738  \n",
       "Filing Date                       12.390178  \n",
       "Issuance Date                     12.388735  \n",
       "Expiration Date                   12.106712  \n",
       "Job Start Date                    12.393051  \n",
       "Permittee's First Name             9.209182  \n",
       "Permittee's Last Name             12.373612  \n",
       "Permittee's Business Name         15.607873  \n",
       "Permittee's Phone #               13.505126  \n",
       "Permittee's License Type           1.633251  \n",
       "Permittee's License #             12.312464  \n",
       "Act as Superintendent              0.046731  \n",
       "Permittee's Other Title            3.655180  \n",
       "HIC License                       10.406188  \n",
       "Site Safety Mgr's First Name       7.143244  \n",
       "Site Safety Mgr's Last Name        9.062517  \n",
       "Site Safety Mgr Business Name      8.241137  \n",
       "Superintendent First & Last Name  15.775936  \n",
       "Superintendent Business Name      15.756969  \n",
       "Owner's Business Type              1.986401  \n",
       "Non-Profit                         0.000000  \n",
       "Owner's Business Name             14.060939  \n",
       "Owner's First Name                10.840708  \n",
       "Owner's Last Name                 14.104710  \n",
       "Owner's House #                   11.282417  \n",
       "Owner's House Street Name         13.013908  \n",
       "Owner’s House City                 5.538437  \n",
       "Owner’s House State                0.238192  \n",
       "Owner’s House Zip Code             7.599265  \n",
       "Owner's Phone #                   15.448757  \n",
       "DOBRunDate                         0.000000  \n",
       "Latitude                          16.388935  \n",
       "Longitude                         16.370527  \n",
       "Council District                   5.252724  \n",
       "Census Tract                       9.490162  \n",
       "BBL                               16.561952  \n",
       "NTA                                6.923259  "
      ]
     },
     "execution_count": 4,
     "metadata": {},
     "output_type": "execute_result"
    }
   ],
   "source": [
    "profiles = ds_full.profile(default_profiler=DefaultColumnProfiler)\n",
    "profiles.stats()"
   ]
  },
  {
   "cell_type": "markdown",
   "id": "08ced6d8",
   "metadata": {},
   "source": [
    "We made a method to generate a histogram of a column in order to identify outliers."
   ]
  },
  {
   "cell_type": "code",
   "execution_count": 5,
   "id": "b4dbff27",
   "metadata": {},
   "outputs": [],
   "source": [
    "def get_histogram(data_set, column_name):\n",
    "    print(f'\\n{column_name}:')\n",
    "    value = data_set.distinct(column_name)\n",
    "    for rank, val in enumerate(value.most_common()):\n",
    "        v, freq = val\n",
    "        print(f'{rank+1:<3} {v} {freq:>10,}')\n",
    "# Uncomment to see example of histogram function\n",
    "#get_histogram(ds_full, 'Street')"
   ]
  },
  {
   "cell_type": "markdown",
   "id": "e00bae34",
   "metadata": {},
   "source": [
    "# Cleaning the Data"
   ]
  },
  {
   "cell_type": "markdown",
   "id": "0a5c596a",
   "metadata": {},
   "source": [
    "### Cleaning Street Column"
   ]
  },
  {
   "cell_type": "code",
   "execution_count": 6,
   "id": "ccd53b99",
   "metadata": {
    "scrolled": true
   },
   "outputs": [
    {
     "data": {
      "text/html": [
       "<div>\n",
       "<style scoped>\n",
       "    .dataframe tbody tr th:only-of-type {\n",
       "        vertical-align: middle;\n",
       "    }\n",
       "\n",
       "    .dataframe tbody tr th {\n",
       "        vertical-align: top;\n",
       "    }\n",
       "\n",
       "    .dataframe thead th {\n",
       "        text-align: right;\n",
       "    }\n",
       "</style>\n",
       "<table border=\"1\" class=\"dataframe\">\n",
       "  <thead>\n",
       "    <tr style=\"text-align: right;\">\n",
       "      <th></th>\n",
       "      <th>total</th>\n",
       "      <th>empty</th>\n",
       "      <th>distinct</th>\n",
       "      <th>uniqueness</th>\n",
       "      <th>entropy</th>\n",
       "    </tr>\n",
       "  </thead>\n",
       "  <tbody>\n",
       "    <tr>\n",
       "      <th>Street</th>\n",
       "      <td>2428526</td>\n",
       "      <td>0</td>\n",
       "      <td>8576</td>\n",
       "      <td>0.003531</td>\n",
       "      <td>10.576541</td>\n",
       "    </tr>\n",
       "  </tbody>\n",
       "</table>\n",
       "</div>"
      ],
      "text/plain": [
       "          total  empty  distinct  uniqueness    entropy\n",
       "Street  2428526      0      8576    0.003531  10.576541"
      ]
     },
     "execution_count": 6,
     "metadata": {},
     "output_type": "execute_result"
    }
   ],
   "source": [
    "from openclean_geo.address.usstreet import StandardizeUSStreetName\n",
    "from openclean.function.value.null import is_empty\n",
    "\n",
    "def clean_street_name(name):\n",
    "    # Replace empty data with 'N/A'\n",
    "    if is_empty(name):\n",
    "        return 'N/A'\n",
    "    # Function to help standardize the street names\n",
    "    street_func = StandardizeUSStreetName(characters='upper', alphanum=True, repeated=False)\n",
    "    name = ''.join(street_func.apply([name], threads=None))\n",
    "    # The conditional statements below are used to try and reduce the remaining\n",
    "    # number of outlier data by fixing some common errors revealed in the histogram.\n",
    "    if name == 'CLARKE PLACE EAST':\n",
    "        name = 'EAST CLARKE PLACE'\n",
    "    elif name == 'EAST BEDFORD PARK BLVD':\n",
    "        name = 'BEDFORD PARK BLVD EAST'\n",
    "    elif name == 'WTC':\n",
    "        name = 'WORLD TRADE CTR'\n",
    "    elif name == 'TIME SQ':\n",
    "        name = 'TIMES SQ'\n",
    "    elif name == 'PITT':\n",
    "        name = 'PITT ST'\n",
    "    elif name == 'BOGARDUS':\n",
    "        name = 'BOGARDUS PLACE'\n",
    "    elif name == 'NAGLE':\n",
    "        name = 'NAGLE AVE'\n",
    "    elif name == 'SHEPHERD':\n",
    "        name = 'SHEPHERD AVE'\n",
    "\n",
    "    split_name = name.split()\n",
    "    if len(split_name) == 0:\n",
    "        return 'N/A'\n",
    "    \n",
    "    if split_name[-1] in ['SSTREET', 'STRET', 'STREET', 'STREE']:\n",
    "        split_name[-1] = 'ST'\n",
    "    elif split_name[-1] == 'PL':\n",
    "        split_name[-1] = 'PLACE'\n",
    "    elif split_name[-1].isnumeric():\n",
    "        split_name.append('ST')\n",
    "    elif split_name[0] == 'ST':\n",
    "        split_name[0] = 'SAINT'\n",
    "    elif split_name[-1] == 'E':\n",
    "        split_name[-1] = 'EAST'\n",
    "    elif split_name[-1] == 'W':\n",
    "        split_name[-1] = 'WEST'\n",
    "    elif split_name[-1] == 'N':\n",
    "        split_name[-1] = 'NORTH'\n",
    "    elif split_name[-1] in ['S', 'SOUIH']:\n",
    "        split_name[-1] = 'SOUTH'\n",
    "    elif split_name[-1] in ['BLDV', 'BLV', 'BOULEVARD', 'BOOULEVARD']:\n",
    "        split_name[-1] = 'BLVD'\n",
    "\n",
    "    name = ' '.join(split_name)\n",
    "\n",
    "    return name\n",
    "\n",
    "def clean_street_data(ds):\n",
    "    cleaned_data = ds.update('Street', lambda x: clean_street_name(x))\n",
    "    return cleaned_data\n",
    "\n",
    "# Street profile after cleaning\n",
    "ds_full = clean_street_data(ds_full)\n",
    "street_data = ds_full.select(columns=['Street'])\n",
    "after_clean_street = street_data.profile(default_profiler=DefaultColumnProfiler)\n",
    "# The number of unique values in Street is significantly lower after\n",
    "# standardizing and cleaning the data\n",
    "after_clean_street.stats()"
   ]
  },
  {
   "cell_type": "markdown",
   "id": "124e1800",
   "metadata": {},
   "source": [
    "### Cleaning Number Column"
   ]
  },
  {
   "cell_type": "code",
   "execution_count": 7,
   "id": "03ab3c10",
   "metadata": {},
   "outputs": [],
   "source": [
    "def clean_number(num):\n",
    "    if is_empty(num):\n",
    "        return 'N/A'\n",
    "    # remove any leading zero's\n",
    "    num = num.lstrip('0')\n",
    "    if len(num) == 0:\n",
    "        return 'N/A'\n",
    "\n",
    "    return num\n",
    "\n",
    "def clean_number_data(ds):\n",
    "    cleaned_data = ds.update('Number', lambda x: clean_number(x)) \n",
    "    return cleaned_data\n",
    "\n",
    "ds_full = clean_number_data(ds_full)"
   ]
  },
  {
   "cell_type": "markdown",
   "id": "26d3dd88",
   "metadata": {},
   "source": [
    "### Clean Permit Type Column\n",
    "Profiling revealed that there is only one row missing a value for Permit Type. The Work Type for that row is PL, which stands for Plumbing. Every other tuple in the dataset that had a Work Type of PL also had a Permit Type PL. So I think it's fair to assume that the missing Permit Type should be filled with PL since it has Work Type PL."
   ]
  },
  {
   "cell_type": "code",
   "execution_count": 8,
   "id": "e1955afb",
   "metadata": {},
   "outputs": [],
   "source": [
    "# Replace the only missing Permit Type with PL since its work type is PL and\n",
    "# all other rows with work type PL have permit type PL also\n",
    "def clean_permit_type(ds):\n",
    "    cleaned_data = ds.update('Permit Type', lambda x: 'PL' if is_empty(x) else x) \n",
    "    return cleaned_data\n",
    "\n",
    "ds_full = clean_permit_type(ds_full)"
   ]
  },
  {
   "cell_type": "markdown",
   "id": "86d6feb1",
   "metadata": {},
   "source": [
    "### Clean Block and Lot Column\n",
    "Block and Lot are both values that are assigned by the Deparment of Finance and depend on the address of the building. This web application https://stevemorse.org/vital/nycblocklot.html takes in Borough, Number, and Street and outputs the Block and Lot values by scraping http://maps.nyc.gov/doitt/nycitymap/ . So I used this web app to try and fill in some of the missing Block and Lot data."
   ]
  },
  {
   "cell_type": "code",
   "execution_count": 9,
   "id": "a5e994b2",
   "metadata": {},
   "outputs": [],
   "source": [
    "import requests\n",
    "import urllib.parse\n",
    "\n",
    "# Make a request the url to try and find the block and lot for an address.\n",
    "# Replace missing data with N/A if it fails to find a value\n",
    "# This requires you to first clean street and number data\n",
    "def get_block_and_lot(borough, number, street, block, lot):\n",
    "    # Return if block and lot are already filled in\n",
    "    if not is_empty(block) and not is_empty(lot):\n",
    "        return borough, number, street, block, lot\n",
    "    if not is_empty(number) and not is_empty(street):\n",
    "        req = f'https://stevemorse.org/vital/nycblocklot.php?borough={borough.title()}&number={number}&street={urllib.parse.quote(street.title())}'\n",
    "        r = requests.get(req)\n",
    "        if r.text == \"Callback('?', '?');\":\n",
    "            # Try again without applying title() to street value\n",
    "            req = f'https://stevemorse.org/vital/nycblocklot.php?borough={borough.title()}&number={number}&street={urllib.parse.quote(street)}'\n",
    "            r = requests.get(req)\n",
    "        if r.status_code == 200:\n",
    "            r_str = r.text.removeprefix('Callback(').removesuffix(');').replace(\"'\", '')\n",
    "            block_lot = r_str.split(',')\n",
    "            if is_empty(block):\n",
    "                block = block_lot[0].strip()\n",
    "            if is_empty(lot):\n",
    "                lot = block_lot[1].strip()\n",
    "    # Return 'N/A' if the web app was unable to find the block and lot data\n",
    "    # for this input\n",
    "    block = 'N/A' if block == '?' else block\n",
    "    lot = 'N/A' if lot == '?' else lot\n",
    "    return borough, number, street, block, lot\n",
    "\n",
    "def clean_block_and_lot(ds):\n",
    "    needed_columns = ['BOROUGH','Number','Street','Block','Lot']\n",
    "    cleaned_data = ds.update(needed_columns, lambda bo, n, s, bl, l: get_block_and_lot(bo, n, s, bl, l))\n",
    "    return cleaned_data\n",
    "\n",
    "ds_full = clean_block_and_lot(ds_full)"
   ]
  },
  {
   "cell_type": "markdown",
   "id": "38c2ca79",
   "metadata": {},
   "source": [
    "### Clean Community Board Data\n",
    "Community Board is a 3-digit identifier with the first digit being the Borough code and the last two digits representing the community board code for that building. This data contained a lot of missing and incorrect values for community board. We were unable to find an API to identify the correct community board code for an address, so we are just replacing all empty and invalid data with 'N/A'. "
   ]
  },
  {
   "cell_type": "code",
   "execution_count": 10,
   "id": "cb7d2eae",
   "metadata": {},
   "outputs": [],
   "source": [
    "# Replace missing or incorrect data with N/A\n",
    "def fix_community_board_data(data):\n",
    "    is_valid = True\n",
    "    if not is_empty(data) and len(data) == 3:\n",
    "        for i in range(3):\n",
    "            if not data[i].isnumeric():\n",
    "                is_valid = False\n",
    "                break\n",
    "    else:\n",
    "        is_valid = False\n",
    "    if is_valid and data[0].isnumeric():\n",
    "        if int(data[0]) > 5:\n",
    "            is_valid = False\n",
    "    if is_valid:\n",
    "        return data\n",
    "    else:\n",
    "        return 'N/A'\n",
    "\n",
    "def clean_community_board_data(ds):\n",
    "    cleaned_data = ds.update('Community Board', lambda x: fix_community_board_data(x)) \n",
    "    return cleaned_data\n",
    "\n",
    "ds_full = clean_community_board_data(ds_full)"
   ]
  },
  {
   "cell_type": "markdown",
   "id": "548fdadd",
   "metadata": {},
   "source": [
    "### Clean Remaining missing data\n",
    "For columns that are marked as not required or don't have a means to identify the correct value for missing data, we simply replaced the empty value with the string 'N/A'. "
   ]
  },
  {
   "cell_type": "code",
   "execution_count": 11,
   "id": "6f386aec",
   "metadata": {},
   "outputs": [],
   "source": [
    "# Replace unrequired and missing data with N/A\n",
    "def replace_empty_data(self_cert, postcode, bldg_type, residential, special1, special2, work_type, permit_status):\n",
    "    if is_empty(self_cert):\n",
    "        self_cert = 'N/A'\n",
    "    if is_empty(postcode):\n",
    "        postcode = 'N/A'\n",
    "    if is_empty(bldg_type):\n",
    "        bldg_type = 'N/A'\n",
    "    if is_empty(residential):\n",
    "        residential = 'N/A'\n",
    "    if is_empty(special1):\n",
    "        special1 = 'N/A'\n",
    "    if is_empty(special2):\n",
    "        special2 = 'N/A'\n",
    "    if is_empty(work_type):\n",
    "        work_type = 'N/A'\n",
    "    if is_empty(permit_status):\n",
    "        permit_status = 'N/A'\n",
    "    return self_cert, postcode, bldg_type, residential, special1, special2, work_type, permit_status\n",
    "\n",
    "def clean_missing_data(ds):\n",
    "    COLUMNS= [\n",
    "        'Self_Cert',\n",
    "        'Postcode',\n",
    "        'Bldg Type',\n",
    "        'Residential',\n",
    "        'Special District 1',\n",
    "        'Special District 2',\n",
    "        'Work Type',\n",
    "        'Permit Status'\n",
    "    ]\n",
    "    cleaned_data = ds.update(COLUMNS, lambda s, po, b, r, s1, s2, w, pe: replace_empty_data(s, po, b, r, s1, s2, w, pe))\n",
    "    return cleaned_data\n",
    "\n",
    "ds_full = clean_missing_data(ds_full)"
   ]
  },
  {
   "cell_type": "markdown",
   "id": "1ee254ef",
   "metadata": {},
   "source": [
    "### Profiling after cleaning first 20 columns"
   ]
  },
  {
   "cell_type": "code",
   "execution_count": 12,
   "id": "936d3157",
   "metadata": {
    "scrolled": true
   },
   "outputs": [
    {
     "data": {
      "text/html": [
       "<div>\n",
       "<style scoped>\n",
       "    .dataframe tbody tr th:only-of-type {\n",
       "        vertical-align: middle;\n",
       "    }\n",
       "\n",
       "    .dataframe tbody tr th {\n",
       "        vertical-align: top;\n",
       "    }\n",
       "\n",
       "    .dataframe thead th {\n",
       "        text-align: right;\n",
       "    }\n",
       "</style>\n",
       "<table border=\"1\" class=\"dataframe\">\n",
       "  <thead>\n",
       "    <tr style=\"text-align: right;\">\n",
       "      <th></th>\n",
       "      <th>total</th>\n",
       "      <th>empty</th>\n",
       "      <th>distinct</th>\n",
       "      <th>uniqueness</th>\n",
       "      <th>entropy</th>\n",
       "    </tr>\n",
       "  </thead>\n",
       "  <tbody>\n",
       "    <tr>\n",
       "      <th>BOROUGH</th>\n",
       "      <td>2428526</td>\n",
       "      <td>0</td>\n",
       "      <td>5</td>\n",
       "      <td>2.058862e-06</td>\n",
       "      <td>2.045161</td>\n",
       "    </tr>\n",
       "    <tr>\n",
       "      <th>BIN</th>\n",
       "      <td>2428526</td>\n",
       "      <td>0</td>\n",
       "      <td>300024</td>\n",
       "      <td>1.235416e-01</td>\n",
       "      <td>16.764061</td>\n",
       "    </tr>\n",
       "    <tr>\n",
       "      <th>Number</th>\n",
       "      <td>2428526</td>\n",
       "      <td>0</td>\n",
       "      <td>28600</td>\n",
       "      <td>1.177669e-02</td>\n",
       "      <td>11.932774</td>\n",
       "    </tr>\n",
       "    <tr>\n",
       "      <th>Street</th>\n",
       "      <td>2428526</td>\n",
       "      <td>0</td>\n",
       "      <td>8576</td>\n",
       "      <td>3.531360e-03</td>\n",
       "      <td>10.576541</td>\n",
       "    </tr>\n",
       "    <tr>\n",
       "      <th>Job #</th>\n",
       "      <td>2428526</td>\n",
       "      <td>0</td>\n",
       "      <td>1110544</td>\n",
       "      <td>4.572914e-01</td>\n",
       "      <td>19.723021</td>\n",
       "    </tr>\n",
       "    <tr>\n",
       "      <th>Job doc. #</th>\n",
       "      <td>2428526</td>\n",
       "      <td>0</td>\n",
       "      <td>12</td>\n",
       "      <td>4.941269e-06</td>\n",
       "      <td>0.496506</td>\n",
       "    </tr>\n",
       "    <tr>\n",
       "      <th>Job Type</th>\n",
       "      <td>2428526</td>\n",
       "      <td>0</td>\n",
       "      <td>6</td>\n",
       "      <td>2.470634e-06</td>\n",
       "      <td>1.855338</td>\n",
       "    </tr>\n",
       "    <tr>\n",
       "      <th>Self_Cert</th>\n",
       "      <td>2428526</td>\n",
       "      <td>0</td>\n",
       "      <td>2</td>\n",
       "      <td>8.235448e-07</td>\n",
       "      <td>0.951343</td>\n",
       "    </tr>\n",
       "    <tr>\n",
       "      <th>Block</th>\n",
       "      <td>2428526</td>\n",
       "      <td>0</td>\n",
       "      <td>13626</td>\n",
       "      <td>5.610811e-03</td>\n",
       "      <td>12.545786</td>\n",
       "    </tr>\n",
       "    <tr>\n",
       "      <th>Lot</th>\n",
       "      <td>2428526</td>\n",
       "      <td>0</td>\n",
       "      <td>1719</td>\n",
       "      <td>7.078368e-04</td>\n",
       "      <td>6.661165</td>\n",
       "    </tr>\n",
       "    <tr>\n",
       "      <th>Community Board</th>\n",
       "      <td>2428526</td>\n",
       "      <td>0</td>\n",
       "      <td>124</td>\n",
       "      <td>5.105978e-05</td>\n",
       "      <td>5.516599</td>\n",
       "    </tr>\n",
       "    <tr>\n",
       "      <th>Postcode</th>\n",
       "      <td>2428526</td>\n",
       "      <td>0</td>\n",
       "      <td>228</td>\n",
       "      <td>9.388411e-05</td>\n",
       "      <td>7.193835</td>\n",
       "    </tr>\n",
       "    <tr>\n",
       "      <th>Bldg Type</th>\n",
       "      <td>2428526</td>\n",
       "      <td>0</td>\n",
       "      <td>3</td>\n",
       "      <td>1.235317e-06</td>\n",
       "      <td>0.943737</td>\n",
       "    </tr>\n",
       "    <tr>\n",
       "      <th>Residential</th>\n",
       "      <td>2428526</td>\n",
       "      <td>0</td>\n",
       "      <td>2</td>\n",
       "      <td>8.235448e-07</td>\n",
       "      <td>0.902420</td>\n",
       "    </tr>\n",
       "    <tr>\n",
       "      <th>Special District 1</th>\n",
       "      <td>2428526</td>\n",
       "      <td>0</td>\n",
       "      <td>83</td>\n",
       "      <td>3.417711e-05</td>\n",
       "      <td>0.734046</td>\n",
       "    </tr>\n",
       "    <tr>\n",
       "      <th>Special District 2</th>\n",
       "      <td>2428526</td>\n",
       "      <td>0</td>\n",
       "      <td>15</td>\n",
       "      <td>6.176586e-06</td>\n",
       "      <td>0.014541</td>\n",
       "    </tr>\n",
       "    <tr>\n",
       "      <th>Work Type</th>\n",
       "      <td>2428526</td>\n",
       "      <td>0</td>\n",
       "      <td>14</td>\n",
       "      <td>5.764814e-06</td>\n",
       "      <td>2.745955</td>\n",
       "    </tr>\n",
       "    <tr>\n",
       "      <th>Permit Status</th>\n",
       "      <td>2428526</td>\n",
       "      <td>0</td>\n",
       "      <td>5</td>\n",
       "      <td>2.058862e-06</td>\n",
       "      <td>0.143420</td>\n",
       "    </tr>\n",
       "    <tr>\n",
       "      <th>Filing Status</th>\n",
       "      <td>2428526</td>\n",
       "      <td>0</td>\n",
       "      <td>2</td>\n",
       "      <td>8.235448e-07</td>\n",
       "      <td>0.790975</td>\n",
       "    </tr>\n",
       "    <tr>\n",
       "      <th>Permit Type</th>\n",
       "      <td>2428526</td>\n",
       "      <td>0</td>\n",
       "      <td>8</td>\n",
       "      <td>3.294179e-06</td>\n",
       "      <td>2.277170</td>\n",
       "    </tr>\n",
       "  </tbody>\n",
       "</table>\n",
       "</div>"
      ],
      "text/plain": [
       "                      total  empty  distinct    uniqueness    entropy\n",
       "BOROUGH             2428526      0         5  2.058862e-06   2.045161\n",
       "BIN                 2428526      0    300024  1.235416e-01  16.764061\n",
       "Number              2428526      0     28600  1.177669e-02  11.932774\n",
       "Street              2428526      0      8576  3.531360e-03  10.576541\n",
       "Job #               2428526      0   1110544  4.572914e-01  19.723021\n",
       "Job doc. #          2428526      0        12  4.941269e-06   0.496506\n",
       "Job Type            2428526      0         6  2.470634e-06   1.855338\n",
       "Self_Cert           2428526      0         2  8.235448e-07   0.951343\n",
       "Block               2428526      0     13626  5.610811e-03  12.545786\n",
       "Lot                 2428526      0      1719  7.078368e-04   6.661165\n",
       "Community Board     2428526      0       124  5.105978e-05   5.516599\n",
       "Postcode            2428526      0       228  9.388411e-05   7.193835\n",
       "Bldg Type           2428526      0         3  1.235317e-06   0.943737\n",
       "Residential         2428526      0         2  8.235448e-07   0.902420\n",
       "Special District 1  2428526      0        83  3.417711e-05   0.734046\n",
       "Special District 2  2428526      0        15  6.176586e-06   0.014541\n",
       "Work Type           2428526      0        14  5.764814e-06   2.745955\n",
       "Permit Status       2428526      0         5  2.058862e-06   0.143420\n",
       "Filing Status       2428526      0         2  8.235448e-07   0.790975\n",
       "Permit Type         2428526      0         8  3.294179e-06   2.277170"
      ]
     },
     "execution_count": 12,
     "metadata": {},
     "output_type": "execute_result"
    }
   ],
   "source": [
    "# Example with first 20 columns\n",
    "COLUMNS_SUBSET = ['BOROUGH','BIN','Number','Street','Job #',\n",
    "                  'Job doc. #','Job Type','Self_Cert','Block',\n",
    "                  'Lot','Community Board','Postcode','Bldg Type',\n",
    "                  'Residential','Special District 1','Special District 2',\n",
    "                  'Work Type','Permit Status','Filing Status','Permit Type'\n",
    "]\n",
    "ds = ds_full.select(columns=COLUMNS_SUBSET)\n",
    "\n",
    "profiles = ds.profile(default_profiler=DefaultColumnProfiler)\n",
    "profiles.stats()"
   ]
  },
  {
   "cell_type": "markdown",
   "id": "49c05426",
   "metadata": {},
   "source": [
    "### Clean Owner's  House State\n",
    "We imported a dataset of state code data as a reference of valid state values. Then replaced any state value that didn't occurr in the reference data with 'N/A'"
   ]
  },
  {
   "cell_type": "code",
   "execution_count": 13,
   "id": "b7910880",
   "metadata": {},
   "outputs": [],
   "source": [
    "from openclean.data.refdata import RefStore\n",
    "\n",
    "def clean_state(name, states_ref):\n",
    "    # Return 'N/A' if the state value is invalid\n",
    "    if name not in states_ref:\n",
    "        return 'N/A'\n",
    "    else:\n",
    "        return name\n",
    "\n",
    "def clean_owner_state_data(ds):\n",
    "    # Download the license plate state codes dataset.\n",
    "    refdata = RefStore()\n",
    "    refdata\\\n",
    "        .load('nyc.gov:dof:state_codes', auto_download=True)\\\n",
    "        .df()\\\n",
    "        .head()\n",
    "\n",
    "    # Get set of distinct state codes.\n",
    "    states_ref = refdata.load('nyc.gov:dof:state_codes', auto_download=True).distinct('code')\n",
    "\n",
    "    cleaned_data = ds.update('Owner’s House State', lambda x: clean_state(x, states_ref))\n",
    "    return cleaned_data\n",
    "\n",
    "ds_full = clean_owner_state_data(ds_full)"
   ]
  },
  {
   "cell_type": "markdown",
   "id": "8ef016b6",
   "metadata": {},
   "source": [
    "### Clean Owner's House Street"
   ]
  },
  {
   "cell_type": "code",
   "execution_count": 14,
   "id": "b9e538d6",
   "metadata": {},
   "outputs": [],
   "source": [
    "def clean_owner_street_data(ds):\n",
    "    cleaned_data = ds.update(\"Owner's House Street Name\", lambda x: clean_street_name(x))\n",
    "    return cleaned_data\n",
    "\n",
    "ds_full = clean_owner_street_data(ds_full)"
   ]
  },
  {
   "cell_type": "markdown",
   "id": "f2e42040",
   "metadata": {},
   "source": [
    "### Clean Owner's House City\n",
    "Used a reference of data of all the cities in the united states. Then I used fuzzy matching to match the input city to a valid city value in the reference data set."
   ]
  },
  {
   "cell_type": "code",
   "execution_count": 15,
   "id": "f5dffd7a",
   "metadata": {},
   "outputs": [],
   "source": [
    "from fuzzywuzzy import fuzz\n",
    "\n",
    "def clean_city_name(name, valid_city_lookup):\n",
    "    if is_empty(name):\n",
    "        return 'N/A'\n",
    "    return valid_city_lookup.get(name.upper(), 'N/A')\n",
    "\n",
    "\n",
    "def clean_owner_city_data(ds):\n",
    "    # Download the license plate state codes dataset.\n",
    "    refdata = RefStore()\n",
    "    refdata\\\n",
    "        .load('encyclopaedia_britannica:us_cities', auto_download=True)\\\n",
    "        .df()\\\n",
    "\n",
    "    # Get set of distinct state codes.\n",
    "    city_ref = refdata.load('encyclopaedia_britannica:us_cities', auto_download=True).distinct('city')\n",
    "    # Get list of distinct owner house city names\n",
    "    city_names = ds.distinct('Owner’s House City')\n",
    "    # Init lookup dictionary for fuzzy matching\n",
    "    city_ref_lookup = {}\n",
    "    # compare city name to each valid city and add to lookup table\n",
    "    # if the similarity is high enough\n",
    "    for city in city_names:\n",
    "        if is_empty(city):\n",
    "            continue\n",
    "        name = city.upper()\n",
    "        found_match = False\n",
    "        for valid_city in city_ref:\n",
    "            percent_match = fuzz.ratio(valid_city.upper(), name)\n",
    "            if percent_match > 90:\n",
    "                found_match = True\n",
    "                city_ref_lookup[name] = valid_city.upper()\n",
    "                break\n",
    "        if not found_match:\n",
    "            city_ref_lookup[name] = 'N/A'\n",
    "\n",
    "    cleaned_data = ds.update('Owner’s House City', lambda x: clean_city_name(x, city_ref_lookup))\n",
    "    return cleaned_data\n",
    "\n",
    "ds_full = clean_owner_city_data(ds_full)"
   ]
  },
  {
   "cell_type": "markdown",
   "id": "5e44fec9",
   "metadata": {},
   "source": [
    "## Profiling Cols 21 - 40"
   ]
  },
  {
   "cell_type": "code",
   "execution_count": 16,
   "id": "a6f9d0da",
   "metadata": {},
   "outputs": [
    {
     "data": {
      "text/plain": [
       "Index(['Permit Sequence #', 'Permit Subtype', 'Oil Gas', 'Site Fill',\n",
       "       'Filing Date', 'Issuance Date', 'Expiration Date', 'Job Start Date',\n",
       "       'Permittee's First Name', 'Permittee's Last Name',\n",
       "       'Permittee's Business Name', 'Permittee's Phone #',\n",
       "       'Permittee's License Type', 'Permittee's License #',\n",
       "       'Act as Superintendent', 'Permittee's Other Title', 'HIC License',\n",
       "       'Site Safety Mgr's First Name', 'Site Safety Mgr's Last Name',\n",
       "       'Site Safety Mgr Business Name'],\n",
       "      dtype='object')"
      ]
     },
     "execution_count": 16,
     "metadata": {},
     "output_type": "execute_result"
    }
   ],
   "source": [
    "# load\n",
    "#data = pd.read_csv('Historical_DOB_Permit_Issuance.csv')\n",
    "data = ds_full.to_df()\n",
    "cols = data[data.columns[20:40]]\n",
    "cols.columns"
   ]
  },
  {
   "cell_type": "code",
   "execution_count": 17,
   "id": "b9789bd3",
   "metadata": {},
   "outputs": [
    {
     "data": {
      "text/html": [
       "<div>\n",
       "<style scoped>\n",
       "    .dataframe tbody tr th:only-of-type {\n",
       "        vertical-align: middle;\n",
       "    }\n",
       "\n",
       "    .dataframe tbody tr th {\n",
       "        vertical-align: top;\n",
       "    }\n",
       "\n",
       "    .dataframe thead th {\n",
       "        text-align: right;\n",
       "    }\n",
       "</style>\n",
       "<table border=\"1\" class=\"dataframe\">\n",
       "  <thead>\n",
       "    <tr style=\"text-align: right;\">\n",
       "      <th></th>\n",
       "      <th>Permit Sequence #</th>\n",
       "      <th>Permit Subtype</th>\n",
       "      <th>Oil Gas</th>\n",
       "      <th>Site Fill</th>\n",
       "      <th>Filing Date</th>\n",
       "      <th>Issuance Date</th>\n",
       "      <th>Expiration Date</th>\n",
       "      <th>Job Start Date</th>\n",
       "      <th>Permittee's First Name</th>\n",
       "      <th>Permittee's Last Name</th>\n",
       "      <th>Permittee's Business Name</th>\n",
       "      <th>Permittee's Phone #</th>\n",
       "      <th>Permittee's License Type</th>\n",
       "      <th>Permittee's License #</th>\n",
       "      <th>Act as Superintendent</th>\n",
       "      <th>Permittee's Other Title</th>\n",
       "      <th>HIC License</th>\n",
       "      <th>Site Safety Mgr's First Name</th>\n",
       "      <th>Site Safety Mgr's Last Name</th>\n",
       "      <th>Site Safety Mgr Business Name</th>\n",
       "    </tr>\n",
       "  </thead>\n",
       "  <tbody>\n",
       "    <tr>\n",
       "      <th>0</th>\n",
       "      <td>1</td>\n",
       "      <td></td>\n",
       "      <td></td>\n",
       "      <td></td>\n",
       "      <td>2010-11-05T00:00:00</td>\n",
       "      <td>2010-11-05T00:00:00</td>\n",
       "      <td>2011-11-05T00:00:00</td>\n",
       "      <td>2010-11-05T00:00:00</td>\n",
       "      <td>LAWRENCE</td>\n",
       "      <td>LEVINE</td>\n",
       "      <td>PAR PLUMBING CO., INC</td>\n",
       "      <td>2129261088</td>\n",
       "      <td>MASTER PLUMBER</td>\n",
       "      <td>161</td>\n",
       "      <td></td>\n",
       "      <td></td>\n",
       "      <td></td>\n",
       "      <td></td>\n",
       "      <td></td>\n",
       "      <td></td>\n",
       "    </tr>\n",
       "    <tr>\n",
       "      <th>1</th>\n",
       "      <td>12</td>\n",
       "      <td>FN</td>\n",
       "      <td></td>\n",
       "      <td>NONE</td>\n",
       "      <td>2012-01-30T00:00:00</td>\n",
       "      <td>2012-01-30T00:00:00</td>\n",
       "      <td>2013-01-29T00:00:00</td>\n",
       "      <td>2002-08-08T00:00:00</td>\n",
       "      <td>ANTHONY</td>\n",
       "      <td>RASULO</td>\n",
       "      <td>RIVERBAY CORP</td>\n",
       "      <td>7183203300</td>\n",
       "      <td>GENERAL CONTRACTOR</td>\n",
       "      <td>1962</td>\n",
       "      <td></td>\n",
       "      <td></td>\n",
       "      <td></td>\n",
       "      <td></td>\n",
       "      <td></td>\n",
       "      <td></td>\n",
       "    </tr>\n",
       "    <tr>\n",
       "      <th>2</th>\n",
       "      <td>3</td>\n",
       "      <td></td>\n",
       "      <td></td>\n",
       "      <td>NONE</td>\n",
       "      <td>2008-02-04T00:00:00</td>\n",
       "      <td>2008-02-04T00:00:00</td>\n",
       "      <td>2009-02-03T00:00:00</td>\n",
       "      <td>2005-08-29T00:00:00</td>\n",
       "      <td>OSCAR</td>\n",
       "      <td>JACKSON</td>\n",
       "      <td>PERFECT PLUMBING &amp; HETING CORP</td>\n",
       "      <td>7185157055</td>\n",
       "      <td>MASTER PLUMBER</td>\n",
       "      <td>594</td>\n",
       "      <td></td>\n",
       "      <td></td>\n",
       "      <td></td>\n",
       "      <td></td>\n",
       "      <td></td>\n",
       "      <td></td>\n",
       "    </tr>\n",
       "    <tr>\n",
       "      <th>3</th>\n",
       "      <td>1</td>\n",
       "      <td></td>\n",
       "      <td></td>\n",
       "      <td>NONE</td>\n",
       "      <td>1998-08-31T00:00:00</td>\n",
       "      <td>1998-08-31T00:00:00</td>\n",
       "      <td>1999-08-31T00:00:00</td>\n",
       "      <td>1998-08-31T00:00:00</td>\n",
       "      <td>GERI</td>\n",
       "      <td>KAUUMBA</td>\n",
       "      <td>GOWIE PLUMBING</td>\n",
       "      <td>7188821281</td>\n",
       "      <td>MASTER PLUMBER</td>\n",
       "      <td>1137</td>\n",
       "      <td>Y</td>\n",
       "      <td></td>\n",
       "      <td></td>\n",
       "      <td></td>\n",
       "      <td></td>\n",
       "      <td></td>\n",
       "    </tr>\n",
       "    <tr>\n",
       "      <th>4</th>\n",
       "      <td>1</td>\n",
       "      <td>MH</td>\n",
       "      <td></td>\n",
       "      <td>NONE</td>\n",
       "      <td>2007-04-30T00:00:00</td>\n",
       "      <td>2007-04-30T00:00:00</td>\n",
       "      <td>2008-01-08T00:00:00</td>\n",
       "      <td>2007-04-30T00:00:00</td>\n",
       "      <td>GARY</td>\n",
       "      <td>ZYSMAN</td>\n",
       "      <td>THE DU-RITE INC</td>\n",
       "      <td>2013877000</td>\n",
       "      <td>GENERAL CONTRACTOR</td>\n",
       "      <td>9872</td>\n",
       "      <td>Y</td>\n",
       "      <td></td>\n",
       "      <td></td>\n",
       "      <td></td>\n",
       "      <td></td>\n",
       "      <td></td>\n",
       "    </tr>\n",
       "  </tbody>\n",
       "</table>\n",
       "</div>"
      ],
      "text/plain": [
       "  Permit Sequence # Permit Subtype Oil Gas Site Fill          Filing Date  \\\n",
       "0                 1                                   2010-11-05T00:00:00   \n",
       "1                12             FN              NONE  2012-01-30T00:00:00   \n",
       "2                 3                             NONE  2008-02-04T00:00:00   \n",
       "3                 1                             NONE  1998-08-31T00:00:00   \n",
       "4                 1             MH              NONE  2007-04-30T00:00:00   \n",
       "\n",
       "         Issuance Date      Expiration Date       Job Start Date  \\\n",
       "0  2010-11-05T00:00:00  2011-11-05T00:00:00  2010-11-05T00:00:00   \n",
       "1  2012-01-30T00:00:00  2013-01-29T00:00:00  2002-08-08T00:00:00   \n",
       "2  2008-02-04T00:00:00  2009-02-03T00:00:00  2005-08-29T00:00:00   \n",
       "3  1998-08-31T00:00:00  1999-08-31T00:00:00  1998-08-31T00:00:00   \n",
       "4  2007-04-30T00:00:00  2008-01-08T00:00:00  2007-04-30T00:00:00   \n",
       "\n",
       "  Permittee's First Name Permittee's Last Name  \\\n",
       "0               LAWRENCE                LEVINE   \n",
       "1                ANTHONY                RASULO   \n",
       "2                  OSCAR               JACKSON   \n",
       "3                   GERI               KAUUMBA   \n",
       "4                   GARY                ZYSMAN   \n",
       "\n",
       "        Permittee's Business Name Permittee's Phone #  \\\n",
       "0           PAR PLUMBING CO., INC          2129261088   \n",
       "1                   RIVERBAY CORP          7183203300   \n",
       "2  PERFECT PLUMBING & HETING CORP          7185157055   \n",
       "3                  GOWIE PLUMBING          7188821281   \n",
       "4                 THE DU-RITE INC          2013877000   \n",
       "\n",
       "  Permittee's License Type Permittee's License # Act as Superintendent  \\\n",
       "0           MASTER PLUMBER                   161                         \n",
       "1       GENERAL CONTRACTOR                  1962                         \n",
       "2           MASTER PLUMBER                   594                         \n",
       "3           MASTER PLUMBER                  1137                     Y   \n",
       "4       GENERAL CONTRACTOR                  9872                     Y   \n",
       "\n",
       "  Permittee's Other Title HIC License Site Safety Mgr's First Name  \\\n",
       "0                                                                    \n",
       "1                                                                    \n",
       "2                                                                    \n",
       "3                                                                    \n",
       "4                                                                    \n",
       "\n",
       "  Site Safety Mgr's Last Name Site Safety Mgr Business Name  \n",
       "0                                                            \n",
       "1                                                            \n",
       "2                                                            \n",
       "3                                                            \n",
       "4                                                            "
      ]
     },
     "execution_count": 17,
     "metadata": {},
     "output_type": "execute_result"
    }
   ],
   "source": [
    "cols.head()"
   ]
  },
  {
   "cell_type": "code",
   "execution_count": 18,
   "id": "a93b2b60",
   "metadata": {},
   "outputs": [
    {
     "data": {
      "text/html": [
       "<div>\n",
       "<style scoped>\n",
       "    .dataframe tbody tr th:only-of-type {\n",
       "        vertical-align: middle;\n",
       "    }\n",
       "\n",
       "    .dataframe tbody tr th {\n",
       "        vertical-align: top;\n",
       "    }\n",
       "\n",
       "    .dataframe thead th {\n",
       "        text-align: right;\n",
       "    }\n",
       "</style>\n",
       "<table border=\"1\" class=\"dataframe\">\n",
       "  <thead>\n",
       "    <tr style=\"text-align: right;\">\n",
       "      <th></th>\n",
       "      <th>Permit Sequence #</th>\n",
       "      <th>Permit Subtype</th>\n",
       "      <th>Oil Gas</th>\n",
       "      <th>Site Fill</th>\n",
       "      <th>Filing Date</th>\n",
       "      <th>Issuance Date</th>\n",
       "      <th>Expiration Date</th>\n",
       "      <th>Job Start Date</th>\n",
       "      <th>Permittee's First Name</th>\n",
       "      <th>Permittee's Last Name</th>\n",
       "      <th>Permittee's Business Name</th>\n",
       "      <th>Permittee's Phone #</th>\n",
       "      <th>Permittee's License Type</th>\n",
       "      <th>Permittee's License #</th>\n",
       "      <th>Act as Superintendent</th>\n",
       "      <th>Permittee's Other Title</th>\n",
       "      <th>HIC License</th>\n",
       "      <th>Site Safety Mgr's First Name</th>\n",
       "      <th>Site Safety Mgr's Last Name</th>\n",
       "      <th>Site Safety Mgr Business Name</th>\n",
       "    </tr>\n",
       "  </thead>\n",
       "  <tbody>\n",
       "    <tr>\n",
       "      <th>2428521</th>\n",
       "      <td>1</td>\n",
       "      <td></td>\n",
       "      <td></td>\n",
       "      <td>ON-SITE</td>\n",
       "      <td>2003-10-08T00:00:00</td>\n",
       "      <td>2003-10-08T00:00:00</td>\n",
       "      <td>2004-04-24T00:00:00</td>\n",
       "      <td>2003-10-08T00:00:00</td>\n",
       "      <td>SALVATORE</td>\n",
       "      <td>CALCAGNO</td>\n",
       "      <td>SALVATORE CALCAGNO CONSTRUCTION</td>\n",
       "      <td>7184426800</td>\n",
       "      <td>GENERAL CONTRACTOR</td>\n",
       "      <td>3107</td>\n",
       "      <td>Y</td>\n",
       "      <td></td>\n",
       "      <td></td>\n",
       "      <td></td>\n",
       "      <td></td>\n",
       "      <td></td>\n",
       "    </tr>\n",
       "    <tr>\n",
       "      <th>2428522</th>\n",
       "      <td>1</td>\n",
       "      <td></td>\n",
       "      <td></td>\n",
       "      <td>NONE</td>\n",
       "      <td>1996-07-29T00:00:00</td>\n",
       "      <td>1997-07-28T00:00:00</td>\n",
       "      <td>1998-07-10T00:00:00</td>\n",
       "      <td>1996-07-29T00:00:00</td>\n",
       "      <td>VITO</td>\n",
       "      <td>MELELEO</td>\n",
       "      <td>LAVINIO CONSTR. INC.</td>\n",
       "      <td>7189487735</td>\n",
       "      <td>GENERAL CONTRACTOR</td>\n",
       "      <td>5209</td>\n",
       "      <td>Y</td>\n",
       "      <td>GC</td>\n",
       "      <td></td>\n",
       "      <td></td>\n",
       "      <td></td>\n",
       "      <td></td>\n",
       "    </tr>\n",
       "    <tr>\n",
       "      <th>2428523</th>\n",
       "      <td>1</td>\n",
       "      <td></td>\n",
       "      <td></td>\n",
       "      <td>NONE</td>\n",
       "      <td>1999-07-09T00:00:00</td>\n",
       "      <td>1999-07-09T00:00:00</td>\n",
       "      <td>2000-07-08T00:00:00</td>\n",
       "      <td>1999-07-09T00:00:00</td>\n",
       "      <td>CHARLES</td>\n",
       "      <td>BERWIND</td>\n",
       "      <td>A. BERWIND PLUMBING &amp; HEATING</td>\n",
       "      <td>5165935333</td>\n",
       "      <td>MASTER PLUMBER</td>\n",
       "      <td>180</td>\n",
       "      <td>Y</td>\n",
       "      <td></td>\n",
       "      <td></td>\n",
       "      <td></td>\n",
       "      <td></td>\n",
       "      <td></td>\n",
       "    </tr>\n",
       "    <tr>\n",
       "      <th>2428524</th>\n",
       "      <td>2</td>\n",
       "      <td></td>\n",
       "      <td></td>\n",
       "      <td>NONE</td>\n",
       "      <td>1996-06-25T00:00:00</td>\n",
       "      <td>1996-06-25T00:00:00</td>\n",
       "      <td>1997-06-07T00:00:00</td>\n",
       "      <td>1994-08-09T00:00:00</td>\n",
       "      <td>FRANK</td>\n",
       "      <td>CIOLLO</td>\n",
       "      <td>FRANK C. PL. &amp; HEATING CORP.</td>\n",
       "      <td>7189812366</td>\n",
       "      <td>MASTER PLUMBER</td>\n",
       "      <td>1357</td>\n",
       "      <td>Y</td>\n",
       "      <td></td>\n",
       "      <td></td>\n",
       "      <td></td>\n",
       "      <td></td>\n",
       "      <td></td>\n",
       "    </tr>\n",
       "    <tr>\n",
       "      <th>2428525</th>\n",
       "      <td>1</td>\n",
       "      <td></td>\n",
       "      <td></td>\n",
       "      <td>OFF-SITE</td>\n",
       "      <td>1999-09-20T00:00:00</td>\n",
       "      <td>1999-09-20T00:00:00</td>\n",
       "      <td>2000-01-01T00:00:00</td>\n",
       "      <td>1999-09-20T00:00:00</td>\n",
       "      <td>KENNETH</td>\n",
       "      <td>FROHLICK</td>\n",
       "      <td>GATEWAY DEMOLITION CORP.</td>\n",
       "      <td>7183591400</td>\n",
       "      <td>GENERAL CONTRACTOR</td>\n",
       "      <td>1023</td>\n",
       "      <td>Y</td>\n",
       "      <td></td>\n",
       "      <td></td>\n",
       "      <td></td>\n",
       "      <td></td>\n",
       "      <td></td>\n",
       "    </tr>\n",
       "  </tbody>\n",
       "</table>\n",
       "</div>"
      ],
      "text/plain": [
       "        Permit Sequence # Permit Subtype Oil Gas Site Fill  \\\n",
       "2428521                 1                          ON-SITE   \n",
       "2428522                 1                             NONE   \n",
       "2428523                 1                             NONE   \n",
       "2428524                 2                             NONE   \n",
       "2428525                 1                         OFF-SITE   \n",
       "\n",
       "                 Filing Date        Issuance Date      Expiration Date  \\\n",
       "2428521  2003-10-08T00:00:00  2003-10-08T00:00:00  2004-04-24T00:00:00   \n",
       "2428522  1996-07-29T00:00:00  1997-07-28T00:00:00  1998-07-10T00:00:00   \n",
       "2428523  1999-07-09T00:00:00  1999-07-09T00:00:00  2000-07-08T00:00:00   \n",
       "2428524  1996-06-25T00:00:00  1996-06-25T00:00:00  1997-06-07T00:00:00   \n",
       "2428525  1999-09-20T00:00:00  1999-09-20T00:00:00  2000-01-01T00:00:00   \n",
       "\n",
       "              Job Start Date Permittee's First Name Permittee's Last Name  \\\n",
       "2428521  2003-10-08T00:00:00              SALVATORE              CALCAGNO   \n",
       "2428522  1996-07-29T00:00:00                   VITO               MELELEO   \n",
       "2428523  1999-07-09T00:00:00                CHARLES               BERWIND   \n",
       "2428524  1994-08-09T00:00:00                  FRANK                CIOLLO   \n",
       "2428525  1999-09-20T00:00:00                KENNETH              FROHLICK   \n",
       "\n",
       "               Permittee's Business Name Permittee's Phone #  \\\n",
       "2428521  SALVATORE CALCAGNO CONSTRUCTION          7184426800   \n",
       "2428522             LAVINIO CONSTR. INC.          7189487735   \n",
       "2428523    A. BERWIND PLUMBING & HEATING          5165935333   \n",
       "2428524     FRANK C. PL. & HEATING CORP.          7189812366   \n",
       "2428525         GATEWAY DEMOLITION CORP.          7183591400   \n",
       "\n",
       "        Permittee's License Type Permittee's License # Act as Superintendent  \\\n",
       "2428521       GENERAL CONTRACTOR                  3107                     Y   \n",
       "2428522       GENERAL CONTRACTOR                  5209                     Y   \n",
       "2428523           MASTER PLUMBER                   180                     Y   \n",
       "2428524           MASTER PLUMBER                  1357                     Y   \n",
       "2428525       GENERAL CONTRACTOR                  1023                     Y   \n",
       "\n",
       "        Permittee's Other Title HIC License Site Safety Mgr's First Name  \\\n",
       "2428521                                                                    \n",
       "2428522                      GC                                            \n",
       "2428523                                                                    \n",
       "2428524                                                                    \n",
       "2428525                                                                    \n",
       "\n",
       "        Site Safety Mgr's Last Name Site Safety Mgr Business Name  \n",
       "2428521                                                            \n",
       "2428522                                                            \n",
       "2428523                                                            \n",
       "2428524                                                            \n",
       "2428525                                                            "
      ]
     },
     "execution_count": 18,
     "metadata": {},
     "output_type": "execute_result"
    }
   ],
   "source": [
    "cols.tail()"
   ]
  },
  {
   "cell_type": "code",
   "execution_count": 19,
   "id": "28379e18",
   "metadata": {},
   "outputs": [
    {
     "data": {
      "text/plain": [
       "Series([], dtype: object)"
      ]
     },
     "execution_count": 19,
     "metadata": {},
     "output_type": "execute_result"
    }
   ],
   "source": [
    "# types of cols with missing values\n",
    "cols.dtypes[cols.isnull().any()]"
   ]
  },
  {
   "cell_type": "code",
   "execution_count": 20,
   "id": "34307e3d",
   "metadata": {},
   "outputs": [
    {
     "data": {
      "text/html": [
       "<div>\n",
       "<style scoped>\n",
       "    .dataframe tbody tr th:only-of-type {\n",
       "        vertical-align: middle;\n",
       "    }\n",
       "\n",
       "    .dataframe tbody tr th {\n",
       "        vertical-align: top;\n",
       "    }\n",
       "\n",
       "    .dataframe thead th {\n",
       "        text-align: right;\n",
       "    }\n",
       "</style>\n",
       "<table border=\"1\" class=\"dataframe\">\n",
       "  <thead>\n",
       "    <tr style=\"text-align: right;\">\n",
       "      <th></th>\n",
       "      <th>Number of missing values</th>\n",
       "      <th>Percentage of missing values</th>\n",
       "    </tr>\n",
       "  </thead>\n",
       "  <tbody>\n",
       "    <tr>\n",
       "      <th>Permit Sequence #</th>\n",
       "      <td>0</td>\n",
       "      <td>0.0</td>\n",
       "    </tr>\n",
       "    <tr>\n",
       "      <th>Permit Subtype</th>\n",
       "      <td>0</td>\n",
       "      <td>0.0</td>\n",
       "    </tr>\n",
       "    <tr>\n",
       "      <th>Site Safety Mgr's Last Name</th>\n",
       "      <td>0</td>\n",
       "      <td>0.0</td>\n",
       "    </tr>\n",
       "    <tr>\n",
       "      <th>Site Safety Mgr's First Name</th>\n",
       "      <td>0</td>\n",
       "      <td>0.0</td>\n",
       "    </tr>\n",
       "    <tr>\n",
       "      <th>HIC License</th>\n",
       "      <td>0</td>\n",
       "      <td>0.0</td>\n",
       "    </tr>\n",
       "    <tr>\n",
       "      <th>Permittee's Other Title</th>\n",
       "      <td>0</td>\n",
       "      <td>0.0</td>\n",
       "    </tr>\n",
       "    <tr>\n",
       "      <th>Act as Superintendent</th>\n",
       "      <td>0</td>\n",
       "      <td>0.0</td>\n",
       "    </tr>\n",
       "    <tr>\n",
       "      <th>Permittee's License #</th>\n",
       "      <td>0</td>\n",
       "      <td>0.0</td>\n",
       "    </tr>\n",
       "    <tr>\n",
       "      <th>Permittee's License Type</th>\n",
       "      <td>0</td>\n",
       "      <td>0.0</td>\n",
       "    </tr>\n",
       "    <tr>\n",
       "      <th>Permittee's Phone #</th>\n",
       "      <td>0</td>\n",
       "      <td>0.0</td>\n",
       "    </tr>\n",
       "    <tr>\n",
       "      <th>Permittee's Business Name</th>\n",
       "      <td>0</td>\n",
       "      <td>0.0</td>\n",
       "    </tr>\n",
       "    <tr>\n",
       "      <th>Permittee's Last Name</th>\n",
       "      <td>0</td>\n",
       "      <td>0.0</td>\n",
       "    </tr>\n",
       "    <tr>\n",
       "      <th>Permittee's First Name</th>\n",
       "      <td>0</td>\n",
       "      <td>0.0</td>\n",
       "    </tr>\n",
       "    <tr>\n",
       "      <th>Job Start Date</th>\n",
       "      <td>0</td>\n",
       "      <td>0.0</td>\n",
       "    </tr>\n",
       "    <tr>\n",
       "      <th>Expiration Date</th>\n",
       "      <td>0</td>\n",
       "      <td>0.0</td>\n",
       "    </tr>\n",
       "    <tr>\n",
       "      <th>Issuance Date</th>\n",
       "      <td>0</td>\n",
       "      <td>0.0</td>\n",
       "    </tr>\n",
       "    <tr>\n",
       "      <th>Filing Date</th>\n",
       "      <td>0</td>\n",
       "      <td>0.0</td>\n",
       "    </tr>\n",
       "    <tr>\n",
       "      <th>Site Fill</th>\n",
       "      <td>0</td>\n",
       "      <td>0.0</td>\n",
       "    </tr>\n",
       "    <tr>\n",
       "      <th>Oil Gas</th>\n",
       "      <td>0</td>\n",
       "      <td>0.0</td>\n",
       "    </tr>\n",
       "    <tr>\n",
       "      <th>Site Safety Mgr Business Name</th>\n",
       "      <td>0</td>\n",
       "      <td>0.0</td>\n",
       "    </tr>\n",
       "  </tbody>\n",
       "</table>\n",
       "</div>"
      ],
      "text/plain": [
       "                               Number of missing values  \\\n",
       "Permit Sequence #                                     0   \n",
       "Permit Subtype                                        0   \n",
       "Site Safety Mgr's Last Name                           0   \n",
       "Site Safety Mgr's First Name                          0   \n",
       "HIC License                                           0   \n",
       "Permittee's Other Title                               0   \n",
       "Act as Superintendent                                 0   \n",
       "Permittee's License #                                 0   \n",
       "Permittee's License Type                              0   \n",
       "Permittee's Phone #                                   0   \n",
       "Permittee's Business Name                             0   \n",
       "Permittee's Last Name                                 0   \n",
       "Permittee's First Name                                0   \n",
       "Job Start Date                                        0   \n",
       "Expiration Date                                       0   \n",
       "Issuance Date                                         0   \n",
       "Filing Date                                           0   \n",
       "Site Fill                                             0   \n",
       "Oil Gas                                               0   \n",
       "Site Safety Mgr Business Name                         0   \n",
       "\n",
       "                               Percentage of missing values  \n",
       "Permit Sequence #                                       0.0  \n",
       "Permit Subtype                                          0.0  \n",
       "Site Safety Mgr's Last Name                             0.0  \n",
       "Site Safety Mgr's First Name                            0.0  \n",
       "HIC License                                             0.0  \n",
       "Permittee's Other Title                                 0.0  \n",
       "Act as Superintendent                                   0.0  \n",
       "Permittee's License #                                   0.0  \n",
       "Permittee's License Type                                0.0  \n",
       "Permittee's Phone #                                     0.0  \n",
       "Permittee's Business Name                               0.0  \n",
       "Permittee's Last Name                                   0.0  \n",
       "Permittee's First Name                                  0.0  \n",
       "Job Start Date                                          0.0  \n",
       "Expiration Date                                         0.0  \n",
       "Issuance Date                                           0.0  \n",
       "Filing Date                                             0.0  \n",
       "Site Fill                                               0.0  \n",
       "Oil Gas                                                 0.0  \n",
       "Site Safety Mgr Business Name                           0.0  "
      ]
     },
     "execution_count": 20,
     "metadata": {},
     "output_type": "execute_result"
    }
   ],
   "source": [
    "# show the number (percentage) of missing values for each col\n",
    "x = cols.isnull().sum()\n",
    "y = cols.isnull().sum() / cols.shape[0] * 100\n",
    "z = {'Number of missing values' : x, 'Percentage of missing values' : y}\n",
    "df = pd.DataFrame(z, columns = ['Number of missing values', 'Percentage of missing values'])\n",
    "df.sort_values(by = 'Percentage of missing values', ascending = False)"
   ]
  },
  {
   "cell_type": "markdown",
   "id": "819a13c3",
   "metadata": {},
   "source": [
    "## Data Clean Cols 21 - 40"
   ]
  },
  {
   "cell_type": "markdown",
   "id": "da25432f",
   "metadata": {},
   "source": [
    "### Permit Subtype"
   ]
  },
  {
   "cell_type": "code",
   "execution_count": 21,
   "id": "402f42d8",
   "metadata": {
    "scrolled": true
   },
   "outputs": [
    {
     "data": {
      "text/plain": [
       "      1010293\n",
       "OT     585308\n",
       "FN     215908\n",
       "MH     214293\n",
       "SH     125409\n",
       "SP      80185\n",
       "BL      51996\n",
       "FP      50161\n",
       "FB      31488\n",
       "SF      31106\n",
       "FS      17035\n",
       "SD       9189\n",
       "EA       5005\n",
       "CH        909\n",
       "FA        239\n",
       "SC          2\n",
       "Name: Permit Subtype, dtype: int64"
      ]
     },
     "execution_count": 21,
     "metadata": {},
     "output_type": "execute_result"
    }
   ],
   "source": [
    "cols['Permit Subtype'].value_counts()"
   ]
  },
  {
   "cell_type": "code",
   "execution_count": 22,
   "id": "96574560",
   "metadata": {},
   "outputs": [
    {
     "data": {
      "text/plain": [
       "0"
      ]
     },
     "execution_count": 22,
     "metadata": {},
     "output_type": "execute_result"
    }
   ],
   "source": [
    "cols['Permit Subtype'].isnull().sum()"
   ]
  },
  {
   "cell_type": "code",
   "execution_count": 23,
   "id": "e8d46bd2",
   "metadata": {},
   "outputs": [],
   "source": [
    "# Fill missing value with NA\n",
    "cols['Permit Subtype'].fillna(\"N/A\", inplace=True)"
   ]
  },
  {
   "cell_type": "code",
   "execution_count": 24,
   "id": "21820e73",
   "metadata": {},
   "outputs": [
    {
     "data": {
      "text/plain": [
       "0"
      ]
     },
     "execution_count": 24,
     "metadata": {},
     "output_type": "execute_result"
    }
   ],
   "source": [
    "cols['Permit Subtype'].isnull().sum()"
   ]
  },
  {
   "cell_type": "markdown",
   "id": "fe8153e8",
   "metadata": {},
   "source": [
    "### Oil Gas"
   ]
  },
  {
   "cell_type": "code",
   "execution_count": 25,
   "id": "5ddc9d7e",
   "metadata": {},
   "outputs": [
    {
     "data": {
      "text/plain": [
       "       2397492\n",
       "OIL      29215\n",
       "GAS       1819\n",
       "Name: Oil Gas, dtype: int64"
      ]
     },
     "execution_count": 25,
     "metadata": {},
     "output_type": "execute_result"
    }
   ],
   "source": [
    "cols['Oil Gas'].value_counts()"
   ]
  },
  {
   "cell_type": "code",
   "execution_count": 26,
   "id": "51383f64",
   "metadata": {},
   "outputs": [
    {
     "data": {
      "text/plain": [
       "0"
      ]
     },
     "execution_count": 26,
     "metadata": {},
     "output_type": "execute_result"
    }
   ],
   "source": [
    "cols['Oil Gas'].isnull().sum()"
   ]
  },
  {
   "cell_type": "code",
   "execution_count": 27,
   "id": "103900da",
   "metadata": {},
   "outputs": [],
   "source": [
    "# Fill missing value with NA\n",
    "cols['Oil Gas'].fillna(\"N/A\", inplace=True)"
   ]
  },
  {
   "cell_type": "markdown",
   "id": "dc5e0ff8",
   "metadata": {},
   "source": [
    "### Site Fill"
   ]
  },
  {
   "cell_type": "code",
   "execution_count": 28,
   "id": "f82d0bbc",
   "metadata": {},
   "outputs": [
    {
     "data": {
      "text/plain": [
       "NONE                   1553658\n",
       "NOT APPLICABLE          371778\n",
       "ON-SITE                 243255\n",
       "                        167703\n",
       "OFF-SITE                 83449\n",
       "USE UNDER 300 CU.YD       8683\n",
       "Name: Site Fill, dtype: int64"
      ]
     },
     "execution_count": 28,
     "metadata": {},
     "output_type": "execute_result"
    }
   ],
   "source": [
    "cols[\"Site Fill\"].value_counts()"
   ]
  },
  {
   "cell_type": "code",
   "execution_count": 29,
   "id": "184cf22e",
   "metadata": {},
   "outputs": [],
   "source": [
    "cols['Site Fill'].fillna(\"N/A\", inplace=True)\n",
    "cols['Site Fill'].replace(\"NONE\", \"N/A\", inplace=True)\n",
    "cols['Site Fill'].replace(\"USE UNDER 300 CU.YD\", \"N/A\", inplace=True)"
   ]
  },
  {
   "cell_type": "code",
   "execution_count": 30,
   "id": "1eb61461",
   "metadata": {},
   "outputs": [
    {
     "data": {
      "text/plain": [
       "0"
      ]
     },
     "execution_count": 30,
     "metadata": {},
     "output_type": "execute_result"
    }
   ],
   "source": [
    "cols[\"Site Fill\"].isnull().sum()"
   ]
  },
  {
   "cell_type": "markdown",
   "id": "bc57ea61",
   "metadata": {},
   "source": [
    "### Filling Data"
   ]
  },
  {
   "cell_type": "code",
   "execution_count": 31,
   "id": "743c98fe",
   "metadata": {},
   "outputs": [
    {
     "data": {
      "text/plain": [
       "2007-03-29T00:00:00    998\n",
       "2007-03-30T00:00:00    981\n",
       "2006-12-28T00:00:00    927\n",
       "2008-01-07T00:00:00    920\n",
       "2007-12-28T00:00:00    900\n",
       "                      ... \n",
       "2011-11-08T00:00:00      1\n",
       "2012-02-25T00:00:00      1\n",
       "2011-12-24T00:00:00      1\n",
       "2008-09-06T00:00:00      1\n",
       "2003-10-18T00:00:00      1\n",
       "Name: Filing Date, Length: 6415, dtype: int64"
      ]
     },
     "execution_count": 31,
     "metadata": {},
     "output_type": "execute_result"
    }
   ],
   "source": [
    "cols['Filing Date'].value_counts()"
   ]
  },
  {
   "cell_type": "code",
   "execution_count": 32,
   "id": "da046842",
   "metadata": {},
   "outputs": [
    {
     "data": {
      "text/plain": [
       "2007-03-29    998\n",
       "2007-03-30    981\n",
       "2006-12-28    927\n",
       "2008-01-07    920\n",
       "2007-12-28    900\n",
       "             ... \n",
       "2011-11-08      1\n",
       "2012-02-25      1\n",
       "2011-12-24      1\n",
       "2008-09-06      1\n",
       "2003-10-18      1\n",
       "Name: Filing Date, Length: 6415, dtype: int64"
      ]
     },
     "execution_count": 32,
     "metadata": {},
     "output_type": "execute_result"
    }
   ],
   "source": [
    "# Remove Time after Date\n",
    "cols['Filing Date'] = cols['Filing Date'].str.split(\"T\")\n",
    "cols['Filing Date'] = cols['Filing Date'].apply(lambda x: x[0])\n",
    "\n",
    "cols['Filing Date'].value_counts()"
   ]
  },
  {
   "cell_type": "code",
   "execution_count": 33,
   "id": "68627a3a",
   "metadata": {},
   "outputs": [
    {
     "data": {
      "text/plain": [
       "2007-03-29    998\n",
       "2007-03-30    981\n",
       "2006-12-28    927\n",
       "2008-01-07    920\n",
       "2007-12-28    900\n",
       "             ... \n",
       "2011-11-08      1\n",
       "2012-02-25      1\n",
       "2011-12-24      1\n",
       "2008-09-06      1\n",
       "2003-10-18      1\n",
       "Name: Filing Date, Length: 6415, dtype: int64"
      ]
     },
     "execution_count": 33,
     "metadata": {},
     "output_type": "execute_result"
    }
   ],
   "source": [
    "#filter out invalid date\n",
    "\n",
    "startDate = '1989-01-01'\n",
    "endDate = '2013-12-31'\n",
    "\n",
    "afterStartDate = cols['Job Start Date'] >= startDate\n",
    "beforeEndDate = cols['Job Start Date'] <= endDate\n",
    "daysBetween = afterStartDate & beforeEndDate\n",
    "\n",
    "cols['Filing Date'] = cols['Filing Date'].loc[daysBetween]\n",
    "\n",
    "cols['Filing Date'].value_counts()"
   ]
  },
  {
   "cell_type": "markdown",
   "id": "048dbda0",
   "metadata": {},
   "source": [
    "### Issuance Date"
   ]
  },
  {
   "cell_type": "code",
   "execution_count": 34,
   "id": "776bec76",
   "metadata": {},
   "outputs": [
    {
     "data": {
      "text/plain": [
       "2007-03-29T00:00:00    994\n",
       "2007-03-30T00:00:00    959\n",
       "2006-12-28T00:00:00    947\n",
       "2007-12-28T00:00:00    918\n",
       "2008-06-27T00:00:00    909\n",
       "                      ... \n",
       "2006-06-18T00:00:00      1\n",
       "2013-04-13T00:00:00      1\n",
       "2012-11-04T00:00:00      1\n",
       "2011-02-20T00:00:00      1\n",
       "2003-10-18T00:00:00      1\n",
       "Name: Issuance Date, Length: 6409, dtype: int64"
      ]
     },
     "execution_count": 34,
     "metadata": {},
     "output_type": "execute_result"
    }
   ],
   "source": [
    "cols['Issuance Date'].value_counts()"
   ]
  },
  {
   "cell_type": "code",
   "execution_count": 35,
   "id": "3432ba65",
   "metadata": {},
   "outputs": [
    {
     "data": {
      "text/plain": [
       "0"
      ]
     },
     "execution_count": 35,
     "metadata": {},
     "output_type": "execute_result"
    }
   ],
   "source": [
    "cols['Issuance Date'].isnull().sum()"
   ]
  },
  {
   "cell_type": "code",
   "execution_count": 36,
   "id": "7a25339b",
   "metadata": {},
   "outputs": [
    {
     "data": {
      "text/plain": [
       "2007-03-29    994\n",
       "2007-03-30    959\n",
       "2006-12-28    947\n",
       "2007-12-28    918\n",
       "2008-06-27    909\n",
       "             ... \n",
       "2006-06-18      1\n",
       "2013-04-13      1\n",
       "2012-11-04      1\n",
       "2011-02-20      1\n",
       "2003-10-18      1\n",
       "Name: Issuance Date, Length: 6409, dtype: int64"
      ]
     },
     "execution_count": 36,
     "metadata": {},
     "output_type": "execute_result"
    }
   ],
   "source": [
    "# Remove Time after Date\n",
    "cols['Issuance Date'] = cols['Issuance Date'].str.split(\"T\")\n",
    "cols['Issuance Date'] = cols['Issuance Date'].apply(lambda x: x[0])\n",
    "\n",
    "cols['Issuance Date'].value_counts()"
   ]
  },
  {
   "cell_type": "code",
   "execution_count": 37,
   "id": "99db85a6",
   "metadata": {},
   "outputs": [
    {
     "data": {
      "text/plain": [
       "2007-03-29    994\n",
       "2007-03-30    959\n",
       "2006-12-28    947\n",
       "2007-12-28    918\n",
       "2008-06-27    909\n",
       "             ... \n",
       "2007-05-28      1\n",
       "2013-04-07      1\n",
       "2012-03-17      1\n",
       "2011-01-01      1\n",
       "2003-10-18      1\n",
       "Name: Issuance Date, Length: 6409, dtype: int64"
      ]
     },
     "execution_count": 37,
     "metadata": {},
     "output_type": "execute_result"
    }
   ],
   "source": [
    "#filter out invalid date\n",
    "\n",
    "startDate = '1989-01-01'\n",
    "endDate = '2013-12-31'\n",
    "\n",
    "afterStartDate = cols['Job Start Date'] >= startDate\n",
    "beforeEndDate = cols['Job Start Date'] <= endDate\n",
    "daysBetween = afterStartDate & beforeEndDate\n",
    "\n",
    "cols['Issuance Date'] = cols['Issuance Date'].loc[daysBetween]\n",
    "\n",
    "cols['Issuance Date'].value_counts()"
   ]
  },
  {
   "cell_type": "markdown",
   "id": "b96978e6",
   "metadata": {},
   "source": [
    "### Expiration Date"
   ]
  },
  {
   "cell_type": "code",
   "execution_count": 38,
   "id": "f1871fb6",
   "metadata": {},
   "outputs": [
    {
     "data": {
      "text/plain": [
       "2007-12-31T00:00:00    18638\n",
       "2006-12-31T00:00:00    18065\n",
       "2005-12-31T00:00:00    16359\n",
       "2004-12-31T00:00:00    13974\n",
       "2009-04-01T00:00:00    11426\n",
       "                       ...  \n",
       "2014-09-05T00:00:00        1\n",
       "2015-03-05T00:00:00        1\n",
       "2209-04-28T00:00:00        1\n",
       "1989-09-12T00:00:00        1\n",
       "2016-09-23T00:00:00        1\n",
       "Name: Expiration Date, Length: 9025, dtype: int64"
      ]
     },
     "execution_count": 38,
     "metadata": {},
     "output_type": "execute_result"
    }
   ],
   "source": [
    "cols['Expiration Date'].value_counts()"
   ]
  },
  {
   "cell_type": "code",
   "execution_count": 39,
   "id": "1fe2809c",
   "metadata": {},
   "outputs": [
    {
     "data": {
      "text/plain": [
       "0"
      ]
     },
     "execution_count": 39,
     "metadata": {},
     "output_type": "execute_result"
    }
   ],
   "source": [
    "cols['Expiration Date'].isnull().sum()"
   ]
  },
  {
   "cell_type": "code",
   "execution_count": 40,
   "id": "312309cb",
   "metadata": {},
   "outputs": [],
   "source": [
    "# take care of missing value\n",
    "cols['Expiration Date'].fillna(\"N/A\", inplace=True)"
   ]
  },
  {
   "cell_type": "code",
   "execution_count": 41,
   "id": "867c697c",
   "metadata": {},
   "outputs": [
    {
     "data": {
      "text/plain": [
       "2007-12-31    18638\n",
       "2006-12-31    18065\n",
       "2005-12-31    16359\n",
       "2004-12-31    13974\n",
       "2009-04-01    11426\n",
       "              ...  \n",
       "2014-09-05        1\n",
       "2015-03-05        1\n",
       "2209-04-28        1\n",
       "1989-09-12        1\n",
       "2016-09-23        1\n",
       "Name: Expiration Date, Length: 9025, dtype: int64"
      ]
     },
     "execution_count": 41,
     "metadata": {},
     "output_type": "execute_result"
    }
   ],
   "source": [
    "# Remove Time after Date\n",
    "cols['Expiration Date'] = cols['Expiration Date'].str.split(\"T\")\n",
    "cols['Expiration Date'] = cols['Expiration Date'].apply(lambda x: x[0])\n",
    "\n",
    "cols['Expiration Date'].value_counts()"
   ]
  },
  {
   "cell_type": "code",
   "execution_count": 42,
   "id": "53630be8",
   "metadata": {},
   "outputs": [
    {
     "data": {
      "text/plain": [
       "2007-12-31    18634\n",
       "2006-12-31    18063\n",
       "2005-12-31    16357\n",
       "2004-12-31    13972\n",
       "2009-04-01    11426\n",
       "              ...  \n",
       "2014-05-27        1\n",
       "2014-08-06        1\n",
       "2014-12-01        1\n",
       "2014-07-01        1\n",
       "1990-01-06        1\n",
       "Name: Expiration Date, Length: 9011, dtype: int64"
      ]
     },
     "execution_count": 42,
     "metadata": {},
     "output_type": "execute_result"
    }
   ],
   "source": [
    "#filter out invalid date\n",
    "\n",
    "startDate = '1989-01-01'\n",
    "endDate = '2013-12-31'\n",
    "\n",
    "afterStartDate = cols['Job Start Date'] >= startDate\n",
    "beforeEndDate = cols['Job Start Date'] <= endDate\n",
    "daysBetween = afterStartDate & beforeEndDate\n",
    "\n",
    "cols['Expiration Date'] = cols['Expiration Date'].loc[daysBetween]\n",
    "\n",
    "cols['Expiration Date'].value_counts()"
   ]
  },
  {
   "cell_type": "markdown",
   "id": "9c18b242",
   "metadata": {},
   "source": [
    "### Job Start Date"
   ]
  },
  {
   "cell_type": "code",
   "execution_count": 43,
   "id": "f3bedece",
   "metadata": {},
   "outputs": [
    {
     "data": {
      "text/plain": [
       "2008-06-27T00:00:00    1376\n",
       "2008-06-25T00:00:00    1095\n",
       "2007-07-17T00:00:00    1077\n",
       "2004-06-09T00:00:00    1063\n",
       "2008-07-29T00:00:00    1051\n",
       "                       ... \n",
       "2077-10-24T00:00:00       1\n",
       "2002-06-29T00:00:00       1\n",
       "2201-06-15T00:00:00       1\n",
       "2001-08-05T00:00:00       1\n",
       "2015-01-25T00:00:00       1\n",
       "Name: Job Start Date, Length: 7476, dtype: int64"
      ]
     },
     "execution_count": 43,
     "metadata": {},
     "output_type": "execute_result"
    }
   ],
   "source": [
    "cols['Job Start Date'].value_counts()"
   ]
  },
  {
   "cell_type": "code",
   "execution_count": 44,
   "id": "9446a237",
   "metadata": {},
   "outputs": [
    {
     "data": {
      "text/plain": [
       "0"
      ]
     },
     "execution_count": 44,
     "metadata": {},
     "output_type": "execute_result"
    }
   ],
   "source": [
    "cols['Job Start Date'].isnull().sum()"
   ]
  },
  {
   "cell_type": "code",
   "execution_count": 45,
   "id": "81c30206",
   "metadata": {},
   "outputs": [],
   "source": [
    "cols['Job Start Date'].fillna(\"N/A\", inplace=True)"
   ]
  },
  {
   "cell_type": "code",
   "execution_count": 46,
   "id": "7765a86c",
   "metadata": {},
   "outputs": [
    {
     "data": {
      "text/plain": [
       "2008-06-27    1376\n",
       "2008-06-25    1095\n",
       "2007-07-17    1077\n",
       "2004-06-09    1063\n",
       "2008-07-29    1051\n",
       "              ... \n",
       "2077-10-24       1\n",
       "2002-06-29       1\n",
       "2201-06-15       1\n",
       "2001-08-05       1\n",
       "2015-01-25       1\n",
       "Name: Job Start Date, Length: 7476, dtype: int64"
      ]
     },
     "execution_count": 46,
     "metadata": {},
     "output_type": "execute_result"
    }
   ],
   "source": [
    "cols['Job Start Date'] = cols['Job Start Date'].str.split(\"T\")\n",
    "cols['Job Start Date'] = cols['Job Start Date'].apply(lambda x: x[0])\n",
    "\n",
    "cols['Job Start Date'].value_counts()"
   ]
  },
  {
   "cell_type": "code",
   "execution_count": 47,
   "id": "722d247e",
   "metadata": {},
   "outputs": [
    {
     "data": {
      "text/plain": [
       "2008-06-27    1376\n",
       "2008-06-25    1095\n",
       "2007-07-17    1077\n",
       "2004-06-09    1063\n",
       "2008-07-29    1051\n",
       "              ... \n",
       "2007-07-08       1\n",
       "1990-07-08       1\n",
       "2005-10-01       1\n",
       "1994-04-03       1\n",
       "2001-08-26       1\n",
       "Name: Job Start Date, Length: 7261, dtype: int64"
      ]
     },
     "execution_count": 47,
     "metadata": {},
     "output_type": "execute_result"
    }
   ],
   "source": [
    "#filter out invalid date\n",
    "\n",
    "startDate = '1989-01-01'\n",
    "endDate = '2013-12-31'\n",
    "\n",
    "afterStartDate = cols['Job Start Date'] >= startDate\n",
    "beforeEndDate = cols['Job Start Date'] <= endDate\n",
    "daysBetween = afterStartDate & beforeEndDate\n",
    "\n",
    "cols['Job Start Date'] = cols['Job Start Date'].loc[daysBetween]\n",
    "cols['Job Start Date'].value_counts()"
   ]
  },
  {
   "cell_type": "markdown",
   "id": "7229392b",
   "metadata": {},
   "source": [
    "### Permittee's First Name"
   ]
  },
  {
   "cell_type": "code",
   "execution_count": 48,
   "id": "e0bd6361",
   "metadata": {},
   "outputs": [
    {
     "data": {
      "text/plain": [
       "0"
      ]
     },
     "execution_count": 48,
     "metadata": {},
     "output_type": "execute_result"
    }
   ],
   "source": [
    "cols[\"Permittee's First Name\"].isnull().sum()"
   ]
  },
  {
   "cell_type": "code",
   "execution_count": 49,
   "id": "560e8397",
   "metadata": {},
   "outputs": [
    {
     "data": {
      "text/plain": [
       "JOHN           112451\n",
       "MICHAEL         76081\n",
       "ROBERT          69481\n",
       "JOSEPH          57833\n",
       "PETER           52864\n",
       "                ...  \n",
       "TONIE               1\n",
       "LEONARD{            1\n",
       "KLEANTHAIES         1\n",
       "GEORGEQ             1\n",
       "VILAJET             1\n",
       "Name: Permittee's First Name, Length: 35868, dtype: int64"
      ]
     },
     "execution_count": 49,
     "metadata": {},
     "output_type": "execute_result"
    }
   ],
   "source": [
    "# issues: having different symbols before or after\n",
    "# ex: _ (__)` MR.  \\{ . /ANN`   -   (, JR)   X.\n",
    "# contains first name and middle name (or middle initial)\n",
    "cols[\"Permittee's First Name\"].value_counts()"
   ]
  },
  {
   "cell_type": "code",
   "execution_count": 50,
   "id": "53718d54",
   "metadata": {},
   "outputs": [],
   "source": [
    "# Getting the first name only\n",
    "# some names contain '-', \" \", \"_\", \"/\" between first and middle name\n",
    "cols[\"Permittee's First Name\"] = cols[\"Permittee's First Name\"].str.split(\" \").str[0]\n",
    "cols[\"Permittee's First Name\"] = cols[\"Permittee's First Name\"].str.split(\"-\").str[0]\n",
    "cols[\"Permittee's First Name\"] = cols[\"Permittee's First Name\"].str.split(\"/\").str[0]\n",
    "cols[\"Permittee's First Name\"] = cols[\"Permittee's First Name\"].str.split(\"\\\\\").str[0]\n",
    "cols[\"Permittee's First Name\"] = cols[\"Permittee's First Name\"].str.split(\"_\").str[0]\n",
    "\n",
    "# further clean the first name\n",
    "cols[\"Permittee's First Name\"] = cols[\"Permittee's First Name\"].str.strip(\"_\")\n",
    "cols[\"Permittee's First Name\"] = cols[\"Permittee's First Name\"].str.strip(\"`\")\n",
    "cols[\"Permittee's First Name\"] = cols[\"Permittee's First Name\"].str.strip(\"MR.\")\n",
    "cols[\"Permittee's First Name\"] = cols[\"Permittee's First Name\"].str.strip(\"\\\\\")\n",
    "cols[\"Permittee's First Name\"] = cols[\"Permittee's First Name\"].str.strip(\"{\")\n",
    "cols[\"Permittee's First Name\"] = cols[\"Permittee's First Name\"].str.strip(\".\")                                                                      \n",
    "cols[\"Permittee's First Name\"] = cols[\"Permittee's First Name\"].str.strip(\"-\")                                                                    \n",
    "cols[\"Permittee's First Name\"] = cols[\"Permittee's First Name\"].str.strip(\",\")\n",
    "\n",
    "# Not-a-name & missing value rows are given \"NA\"\n",
    "cols[\"Permittee's First Name\"].str.isnumeric().replace(\"N/A\",inplace=True)\n",
    "cols[\"Permittee's First Name\"].fillna(\"N/A\", inplace=True)"
   ]
  },
  {
   "cell_type": "code",
   "execution_count": 51,
   "id": "f03a2ec1",
   "metadata": {},
   "outputs": [
    {
     "data": {
      "text/plain": [
       "JOHN         112921\n",
       "ICHAEL        76390\n",
       "OBERT         69635\n",
       "JOSEPH        58011\n",
       "PETE          53722\n",
       "              ...  \n",
       "AIGOZATA          1\n",
       "DINATALIE         1\n",
       "APENCE            1\n",
       "JANAN             1\n",
       "VILAJET           1\n",
       "Name: Permittee's First Name, Length: 28984, dtype: int64"
      ]
     },
     "execution_count": 51,
     "metadata": {},
     "output_type": "execute_result"
    }
   ],
   "source": [
    "cols[\"Permittee's First Name\"].value_counts()"
   ]
  },
  {
   "cell_type": "code",
   "execution_count": 52,
   "id": "25cb50d1",
   "metadata": {},
   "outputs": [
    {
     "data": {
      "text/plain": [
       "0"
      ]
     },
     "execution_count": 52,
     "metadata": {},
     "output_type": "execute_result"
    }
   ],
   "source": [
    "cols[\"Permittee's First Name\"].isnull().sum()"
   ]
  },
  {
   "cell_type": "markdown",
   "id": "7dc96fa6",
   "metadata": {},
   "source": [
    "### Permittee's Last Name"
   ]
  },
  {
   "cell_type": "code",
   "execution_count": 53,
   "id": "9053c2a2",
   "metadata": {},
   "outputs": [
    {
     "data": {
      "text/plain": [
       "SINGH        28500\n",
       "WHITE        19733\n",
       "LEE          16399\n",
       "MARTINEZ     15557\n",
       "BROWN        14565\n",
       "             ...  \n",
       "FERRAIR          1\n",
       "'HKRELI          1\n",
       "GLEXANDER        1\n",
       "DENNIGER         1\n",
       "DANSIGER         1\n",
       "Name: Permittee's Last Name, Length: 85626, dtype: int64"
      ]
     },
     "execution_count": 53,
     "metadata": {},
     "output_type": "execute_result"
    }
   ],
   "source": [
    "# having similar issue with \"Permittee's First Name\"\n",
    "cols[\"Permittee's Last Name\"].value_counts()"
   ]
  },
  {
   "cell_type": "code",
   "execution_count": 54,
   "id": "86cee0f3",
   "metadata": {},
   "outputs": [
    {
     "data": {
      "text/plain": [
       "0"
      ]
     },
     "execution_count": 54,
     "metadata": {},
     "output_type": "execute_result"
    }
   ],
   "source": [
    "cols[\"Permittee's Last Name\"].isnull().sum()"
   ]
  },
  {
   "cell_type": "code",
   "execution_count": 55,
   "id": "6d228b93",
   "metadata": {},
   "outputs": [],
   "source": [
    "# some names contain '-', \" \", \"_\", \"/\" between last name & other coarse strings\n",
    "cols[\"Permittee's Last Name\"] = cols[\"Permittee's Last Name\"].str.split(\" \").str[0]\n",
    "cols[\"Permittee's Last Name\"] = cols[\"Permittee's Last Name\"].str.split(\"-\").str[0]\n",
    "cols[\"Permittee's Last Name\"] = cols[\"Permittee's Last Name\"].str.split(\"/\").str[0]\n",
    "cols[\"Permittee's Last Name\"] = cols[\"Permittee's Last Name\"].str.split(\"\\\\\").str[0]\n",
    "cols[\"Permittee's Last Name\"] = cols[\"Permittee's Last Name\"].str.split(\"_\").str[0]\n",
    "\n",
    "# further clean the Last name\n",
    "cols[\"Permittee's Last Name\"] = cols[\"Permittee's Last Name\"].str.strip(\"_\")\n",
    "cols[\"Permittee's Last Name\"] = cols[\"Permittee's Last Name\"].str.strip(\"`\")\n",
    "cols[\"Permittee's Last Name\"] = cols[\"Permittee's Last Name\"].str.strip(\"\\\\\")\n",
    "cols[\"Permittee's Last Name\"] = cols[\"Permittee's Last Name\"].str.strip(\"{\")\n",
    "cols[\"Permittee's Last Name\"] = cols[\"Permittee's Last Name\"].str.strip(\".\")                                                                      \n",
    "cols[\"Permittee's Last Name\"] = cols[\"Permittee's Last Name\"].str.strip(\"-\")                                                                    \n",
    "cols[\"Permittee's Last Name\"] = cols[\"Permittee's Last Name\"].str.strip(\",\")\n",
    "\n",
    "# Not-a-name & missing value rows are given \"NA\"\n",
    "cols[\"Permittee's Last Name\"].str.isnumeric().replace(\"N/A\",inplace=True)\n",
    "cols[\"Permittee's Last Name\"].fillna(\"N/A\", inplace=True)"
   ]
  },
  {
   "cell_type": "code",
   "execution_count": 56,
   "id": "b4c14d16",
   "metadata": {},
   "outputs": [
    {
     "data": {
      "text/plain": [
       "SINGH       28530\n",
       "WHITE       19817\n",
       "LEE         16425\n",
       "MARTINEZ    15560\n",
       "BROWN       14578\n",
       "            ...  \n",
       "PERCHUK         1\n",
       "VIRANZA         1\n",
       "RAQMOS          1\n",
       "GURBQLL         1\n",
       "DANSIGER        1\n",
       "Name: Permittee's Last Name, Length: 80924, dtype: int64"
      ]
     },
     "execution_count": 56,
     "metadata": {},
     "output_type": "execute_result"
    }
   ],
   "source": [
    "cols[\"Permittee's Last Name\"].value_counts()"
   ]
  },
  {
   "cell_type": "code",
   "execution_count": 57,
   "id": "b1631024",
   "metadata": {},
   "outputs": [
    {
     "data": {
      "text/plain": [
       "0"
      ]
     },
     "execution_count": 57,
     "metadata": {},
     "output_type": "execute_result"
    }
   ],
   "source": [
    "cols[\"Permittee's Last Name\"].isnull().sum()"
   ]
  },
  {
   "cell_type": "markdown",
   "id": "c4f2f659",
   "metadata": {},
   "source": [
    "### Permittee's Business Name"
   ]
  },
  {
   "cell_type": "code",
   "execution_count": 58,
   "id": "dffbfaad",
   "metadata": {},
   "outputs": [
    {
     "data": {
      "text/plain": [
       "N/A                              27050\n",
       "ROCKLEDGE SCAFFOLD                7732\n",
       "STRUCTURE TONE INC                7461\n",
       "EVEREST SCAFFOLDING INC           7368\n",
       "OWNER                             5090\n",
       "                                 ...  \n",
       "HAMDAL CONSTRUCTION CO.              1\n",
       "REDMOND WINDOWS AND DOORS            1\n",
       "SVC. PLUS PLBG & HTG CO. INC         1\n",
       "CORP. CONSTR. PROJ. MANA.            1\n",
       "FINE LIVING CONSTRUCTION CORP        1\n",
       "Name: Permittee's Business Name, Length: 351179, dtype: int64"
      ]
     },
     "execution_count": 58,
     "metadata": {},
     "output_type": "execute_result"
    }
   ],
   "source": [
    "cols[\"Permittee's Business Name\"].value_counts()"
   ]
  },
  {
   "cell_type": "code",
   "execution_count": 59,
   "id": "8a9b322c",
   "metadata": {},
   "outputs": [
    {
     "data": {
      "text/plain": [
       "0"
      ]
     },
     "execution_count": 59,
     "metadata": {},
     "output_type": "execute_result"
    }
   ],
   "source": [
    "cols[\"Permittee's Business Name\"].isnull().sum()"
   ]
  },
  {
   "cell_type": "code",
   "execution_count": 60,
   "id": "7e9f2bd5",
   "metadata": {},
   "outputs": [],
   "source": [
    "# Missing value means the name is not available (replace with NA)\n",
    "#cols[\"Permittee's Business Name\"].fillna(\"NA\")\n",
    "cols[\"Permittee's Business Name\"].replace((\"N.A\", \"na\",\"n.a\"), (\"N/A\",\"N/A\",\"N/A\"),inplace=True)\n",
    "\n",
    "# some contains business address instead of business name\n",
    "streetValue = [\"st\", \"St\", \"ST\", \"street\", \"Street\", \"STREET\"]\n",
    "cols[\"Permittee's Business Name\"].str.contains('|'.join(streetValue)).replace(\"N/A\", inplace=True)"
   ]
  },
  {
   "cell_type": "code",
   "execution_count": 61,
   "id": "590ba240",
   "metadata": {},
   "outputs": [
    {
     "data": {
      "text/plain": [
       "N/A                              28787\n",
       "ROCKLEDGE SCAFFOLD                7732\n",
       "STRUCTURE TONE INC                7461\n",
       "EVEREST SCAFFOLDING INC           7368\n",
       "OWNER                             5090\n",
       "                                 ...  \n",
       "FUNCTIOAL CONSTR INC                 1\n",
       "ALL CITY MECHANICAL, INC             1\n",
       "PHOENX 132 SUTTON ST INC             1\n",
       "J. HARONE , CO                       1\n",
       "FINE LIVING CONSTRUCTION CORP        1\n",
       "Name: Permittee's Business Name, Length: 351178, dtype: int64"
      ]
     },
     "execution_count": 61,
     "metadata": {},
     "output_type": "execute_result"
    }
   ],
   "source": [
    "cols[\"Permittee's Business Name\"].value_counts()"
   ]
  },
  {
   "cell_type": "markdown",
   "id": "e0c3a829",
   "metadata": {},
   "source": [
    "### Permittee's Phone #"
   ]
  },
  {
   "cell_type": "code",
   "execution_count": 62,
   "id": "b9bae898",
   "metadata": {},
   "outputs": [
    {
     "data": {
      "text/plain": [
       "0"
      ]
     },
     "execution_count": 62,
     "metadata": {},
     "output_type": "execute_result"
    }
   ],
   "source": [
    "cols[\"Permittee's Phone #\"].isnull().sum()"
   ]
  },
  {
   "cell_type": "code",
   "execution_count": 63,
   "id": "cabab38e",
   "metadata": {},
   "outputs": [],
   "source": [
    "# some #s followed by a .0 (xxxxxxxxx.0)\n",
    "# missing value means no # is available\n",
    "cols[\"Permittee's Phone #\"] = cols[\"Permittee's Phone #\"].astype(str)\n",
    "cols[\"Permittee's Phone #\"] = cols[\"Permittee's Phone #\"].str.split(\".\")\n",
    "cols[\"Permittee's Phone #\"] = cols[\"Permittee's Phone #\"].apply(lambda x: x[0])\n",
    "cols[\"Permittee's Phone #\"].fillna(\"N/A\",inplace=True)"
   ]
  },
  {
   "cell_type": "code",
   "execution_count": 64,
   "id": "44bed777",
   "metadata": {},
   "outputs": [
    {
     "data": {
      "text/plain": [
       "0"
      ]
     },
     "execution_count": 64,
     "metadata": {},
     "output_type": "execute_result"
    }
   ],
   "source": [
    "cols[\"Permittee's Phone #\"].isnull().sum()"
   ]
  },
  {
   "cell_type": "code",
   "execution_count": 65,
   "id": "182e1434",
   "metadata": {},
   "outputs": [
    {
     "data": {
      "text/plain": [
       "2124816100    16556\n",
       "7183924921    11749\n",
       "9144230400    11396\n",
       "2129261088     9812\n",
       "7185894900     9110\n",
       "              ...  \n",
       "7182633277        1\n",
       "7183942021        1\n",
       "718828111P        1\n",
       "7188516462        1\n",
       "7189485837        1\n",
       "Name: Permittee's Phone #, Length: 145122, dtype: int64"
      ]
     },
     "execution_count": 65,
     "metadata": {},
     "output_type": "execute_result"
    }
   ],
   "source": [
    "cols[\"Permittee's Phone #\"].value_counts()"
   ]
  },
  {
   "cell_type": "markdown",
   "id": "fda8ef49",
   "metadata": {},
   "source": [
    "### Permittee's License Type"
   ]
  },
  {
   "cell_type": "code",
   "execution_count": 66,
   "id": "556aa255",
   "metadata": {},
   "outputs": [
    {
     "data": {
      "text/plain": [
       "GENERAL CONTRACTOR             1343651\n",
       "MASTER PLUMBER                  528867\n",
       "                                254952\n",
       "FIRE SUPPRESSION CONTRACTOR     128567\n",
       "OIL BURNER INSTALLER             58574\n",
       "SIGN HANGER                      50004\n",
       "OWNER                            36295\n",
       "NO WORK                          15367\n",
       "DEMOLITION CONTRACTOR             5188\n",
       "PROFESSIONAL ENGINEER             3433\n",
       "REGISTERED ARCHITECT              2944\n",
       "HOME IMPROVEMENT CONTRACTOR        684\n",
       "Name: Permittee's License Type, dtype: int64"
      ]
     },
     "execution_count": 66,
     "metadata": {},
     "output_type": "execute_result"
    }
   ],
   "source": [
    "cols[\"Permittee's License Type\"].value_counts()"
   ]
  },
  {
   "cell_type": "code",
   "execution_count": 67,
   "id": "3eddb308",
   "metadata": {},
   "outputs": [
    {
     "data": {
      "text/plain": [
       "0"
      ]
     },
     "execution_count": 67,
     "metadata": {},
     "output_type": "execute_result"
    }
   ],
   "source": [
    "cols[\"Permittee's License Type\"].isnull().sum()"
   ]
  },
  {
   "cell_type": "code",
   "execution_count": 68,
   "id": "31046dee",
   "metadata": {},
   "outputs": [],
   "source": [
    "# Not sure what \"NO WORK\" means, but can't do anything to it\n",
    "# missing value means no # is available\n",
    "cols[\"Permittee's License Type\"].fillna(\"N/A\",inplace=True)"
   ]
  },
  {
   "cell_type": "code",
   "execution_count": 69,
   "id": "ead878c6",
   "metadata": {},
   "outputs": [
    {
     "data": {
      "text/plain": [
       "0"
      ]
     },
     "execution_count": 69,
     "metadata": {},
     "output_type": "execute_result"
    }
   ],
   "source": [
    "cols[\"Permittee's License Type\"].isnull().sum()"
   ]
  },
  {
   "cell_type": "markdown",
   "id": "5352e49b",
   "metadata": {},
   "source": [
    "### Permittee's License #"
   ]
  },
  {
   "cell_type": "code",
   "execution_count": 70,
   "id": "add3e6be",
   "metadata": {},
   "outputs": [
    {
     "data": {
      "text/plain": [
       "          221196\n",
       "0          78260\n",
       "2660       14500\n",
       "1982       13282\n",
       "2593       11656\n",
       "           ...  \n",
       "605173         1\n",
       "31668          1\n",
       "36559          1\n",
       "3137           1\n",
       "18330          1\n",
       "Name: Permittee's License #, Length: 46747, dtype: int64"
      ]
     },
     "execution_count": 70,
     "metadata": {},
     "output_type": "execute_result"
    }
   ],
   "source": [
    "cols[\"Permittee's License #\"].value_counts()"
   ]
  },
  {
   "cell_type": "code",
   "execution_count": 71,
   "id": "3af9c652",
   "metadata": {},
   "outputs": [
    {
     "data": {
      "text/plain": [
       "0"
      ]
     },
     "execution_count": 71,
     "metadata": {},
     "output_type": "execute_result"
    }
   ],
   "source": [
    "cols[\"Permittee's License #\"].isnull().sum()"
   ]
  },
  {
   "cell_type": "code",
   "execution_count": 72,
   "id": "41f9afd0",
   "metadata": {},
   "outputs": [],
   "source": [
    "# a single digit from 0 to 9 means not available, or wrong input\n",
    "\n",
    "singleNumber = ['0','1','2','3','4','5','6','7','8','9']\n",
    "cols[\"Permittee's License #\"].replace(singleNumber,'N/A',inplace=True)\n"
   ]
  },
  {
   "cell_type": "code",
   "execution_count": 73,
   "id": "97b049ad",
   "metadata": {},
   "outputs": [],
   "source": [
    "# missing value means no # is available\n",
    "\n",
    "cols[\"Permittee's License #\"].str.strip(\" \")\n",
    "cols[\"Permittee's License #\"].str.strip(\"\\\\\")\n",
    "cols[\"Permittee's License #\"].str.strip(\",\")\n",
    "cols[\"Permittee's License #\"].str.strip(\"`\")\n",
    "cols[\"Permittee's License #\"].str.strip(\"*\")\n",
    "\n",
    "cols[\"Permittee's License #\"] = cols[\"Permittee's License #\"].astype(str)\n",
    "cols[\"Permittee's License #\"] = cols[\"Permittee's License #\"].str.split(\".\")\n",
    "cols[\"Permittee's License #\"] = cols[\"Permittee's License #\"].apply(lambda x: x[0])\n",
    "cols[\"Permittee's License #\"].fillna(\"N/A\",inplace=True)"
   ]
  },
  {
   "cell_type": "code",
   "execution_count": 74,
   "id": "42b2866f",
   "metadata": {},
   "outputs": [
    {
     "data": {
      "text/plain": [
       "0"
      ]
     },
     "execution_count": 74,
     "metadata": {},
     "output_type": "execute_result"
    }
   ],
   "source": [
    "cols[\"Permittee's License #\"].isnull().sum()"
   ]
  },
  {
   "cell_type": "markdown",
   "id": "ef9b4480",
   "metadata": {},
   "source": [
    "### Act as Superintendent"
   ]
  },
  {
   "cell_type": "code",
   "execution_count": 75,
   "id": "8f16a053",
   "metadata": {},
   "outputs": [
    {
     "data": {
      "text/plain": [
       "Y    1586974\n",
       "      833300\n",
       "N       8252\n",
       "Name: Act as Superintendent, dtype: int64"
      ]
     },
     "execution_count": 75,
     "metadata": {},
     "output_type": "execute_result"
    }
   ],
   "source": [
    "cols['Act as Superintendent'].value_counts()"
   ]
  },
  {
   "cell_type": "code",
   "execution_count": 76,
   "id": "f2568fbe",
   "metadata": {},
   "outputs": [
    {
     "data": {
      "text/plain": [
       "0"
      ]
     },
     "execution_count": 76,
     "metadata": {},
     "output_type": "execute_result"
    }
   ],
   "source": [
    "cols['Act as Superintendent'].isnull().sum()"
   ]
  },
  {
   "cell_type": "code",
   "execution_count": 77,
   "id": "661e4922",
   "metadata": {},
   "outputs": [],
   "source": [
    "# Fill missing value with NA\n",
    "cols['Act as Superintendent'].fillna(\"N/A\", inplace=True)"
   ]
  },
  {
   "cell_type": "code",
   "execution_count": 78,
   "id": "55e0f1fd",
   "metadata": {},
   "outputs": [
    {
     "data": {
      "text/plain": [
       "0"
      ]
     },
     "execution_count": 78,
     "metadata": {},
     "output_type": "execute_result"
    }
   ],
   "source": [
    "cols['Act as Superintendent'].isnull().sum()"
   ]
  },
  {
   "cell_type": "markdown",
   "id": "bf40f5fc",
   "metadata": {},
   "source": [
    "### Permittee's Other Title"
   ]
  },
  {
   "cell_type": "code",
   "execution_count": 79,
   "id": "fb66709c",
   "metadata": {},
   "outputs": [
    {
     "data": {
      "text/plain": [
       "                   2160267\n",
       "GC                  105964\n",
       "G.C.                 63698\n",
       "G.C                  15668\n",
       "CONTRACTOR           13935\n",
       "                    ...   \n",
       "SPRIN CONTRACTO          1\n",
       "SUB CONT.                1\n",
       "REFIR CONTRAC            1\n",
       "IL BURNER INST           1\n",
       "TANK #61130423           1\n",
       "Name: Permittee's Other Title, Length: 2798, dtype: int64"
      ]
     },
     "execution_count": 79,
     "metadata": {},
     "output_type": "execute_result"
    }
   ],
   "source": [
    "cols[\"Permittee's Other Title\"].value_counts()"
   ]
  },
  {
   "cell_type": "code",
   "execution_count": 80,
   "id": "296187fa",
   "metadata": {},
   "outputs": [
    {
     "data": {
      "text/plain": [
       "0"
      ]
     },
     "execution_count": 80,
     "metadata": {},
     "output_type": "execute_result"
    }
   ],
   "source": [
    "cols[\"Permittee's Other Title\"].isnull().sum()"
   ]
  },
  {
   "cell_type": "code",
   "execution_count": 81,
   "id": "ca63ab7e",
   "metadata": {},
   "outputs": [],
   "source": [
    "GC = [\"GC\",\"GC .\",\"G.C .\",\"GCC.\",\"G?C\",\"G.,C.\",\"G..C.\",\"G,C,\",\"G.C. (SIGNS)\",\"DEMO CON\",\"DEMO. CONTRACTR\",\"GEN CONTACTOR\",\"G .C.\",\"G.CONTRACTOR\",\"GEN  CONTRACTOR\",\"G.C.\",\"_GC\",\"_G.C\",\"G.C\",\"G C\",\"GC.\",\"G.C..\",\"G/C\",\"_G.C.\",\"___GC\",\"G. C.\",\"G.G..\",\"G. C\",\"G..C\",\"G..\",\"G/C/\",\"G,C.\",\"GEN. CONTRACTOR\",\"GEN CONTRACTOR\",\"GEN CONTR.\",\"GEN. CONTR.\",\"GENERAL CONTR.\",\"GENERAL CONTRAC\",\"GC/OWNER\",\"GEN CON\",\"GENERAL\",\"GEN CONT\"]\n",
    "CONTRACTOR = [\"CONTR.\",\"CONTR\",\"CONT\",\"CON.\",\"CONT.\",\"C\"]\n",
    "DEMO_CONTRACTOR = [\"DEMO CONTR\",\"DEMO. CONTR.\",\"DEMO.CON.\",\"DEMO CONT\",\"DEMO CONTR{\",\"DEMO CONT.\",\"DEMO.CON\",\"DEMO. CONT.\",\"DEMO. CONTRACTO\",\"DEMO CONTR.\",\"DEMO.\",\"DEMO.CONTRACTOR\",\"DEMOL CONTR\"]\n",
    "OIL_BURN_INST = [\"OIL BURNER INS.\",\"OIL BURNER INSL\",\"OIL BURNER INST\",\"B INSTALLER\",\"OILBURNER\",\"O.B.INSTALLER\",\"FUEL OIL INST\",\"OIL BURNER INS\",\"B. INSTALLER\",\"OIL BURNER INST\",\"OIL BURNER\",\"FUEL OIL\",\"OIL BUR. INSTR.\",\"OBI\",\"OIL INSTALLER\",\"OIL INSTALLER\",\"OIL BURN. INSTA\",\"OIL BUR.\",\"OIL BRN INSTL\",\"TANK INSTALLER\",\"FUEL OIL INST.\",\"BOILER INSTALL.\",\"BOILER INSTALL\",\"BOILER INSTALLE\",\"BURNER INSTALLE\",\"O.B. INSTALLER\",\"O.B.I.\",\"OB INSTALLER\",\"O.B.\",\"BOIL INSTALLER\",\"\"]\n",
    "SIGN = [\"SIGN MFG.\",\"SIGN MFG\",\"SIGN MGF\",\"SIGN HANGER-164\",\"SIGN HGR\",\"SIGN MGR\",\"SIGN HANG. #168\",\"SIGN MANUFACT.\",\"SIGN RIGGER\",\"SIGN ERECTOR\",\"SGN.HNGR.\",\"SIGN HANGER-168\",\"SIGN HANGERS\",\"SIGN BROKER\",\"SIGN HANGER-157\",\"SG MFG\",\"SGN HNGR\",\"SIGN CONTRACTOR\",\"SIGN MFGR.\",]\n",
    "\n",
    "cols[\"Permittee's Other Title\"].replace(GC,\"GENERAL CONTRACTOR\",inplace=True)\n",
    "cols[\"Permittee's Other Title\"].replace(CONTRACTOR,\"CONTRACTOR\",inplace=True)\n",
    "cols[\"Permittee's Other Title\"].replace(DEMO_CONTRACTOR,\"DEMOLITION CONTRACTOR\",inplace=True)\n",
    "cols[\"Permittee's Other Title\"].replace(OIL_BURN_INST,\"OIL BURNER INSTALLER\",inplace=True)\n",
    "cols[\"Permittee's Other Title\"].replace(SIGN,\"SIGN HANGER\",inplace=True)"
   ]
  },
  {
   "cell_type": "markdown",
   "id": "6af083a7",
   "metadata": {},
   "source": [
    "### HIC License"
   ]
  },
  {
   "cell_type": "code",
   "execution_count": 82,
   "id": "60a78660",
   "metadata": {},
   "outputs": [
    {
     "data": {
      "text/plain": [
       "           2401722\n",
       "0              845\n",
       "9999999        551\n",
       "45141          405\n",
       "1251318        332\n",
       "            ...   \n",
       "1011135          1\n",
       "354933           1\n",
       "880320           1\n",
       "904922           1\n",
       "1115514          1\n",
       "Name: HIC License, Length: 5513, dtype: int64"
      ]
     },
     "execution_count": 82,
     "metadata": {},
     "output_type": "execute_result"
    }
   ],
   "source": [
    "cols[\"HIC License\"].value_counts()"
   ]
  },
  {
   "cell_type": "code",
   "execution_count": 83,
   "id": "79047e72",
   "metadata": {},
   "outputs": [
    {
     "data": {
      "text/plain": [
       "0"
      ]
     },
     "execution_count": 83,
     "metadata": {},
     "output_type": "execute_result"
    }
   ],
   "source": [
    "cols[\"HIC License\"].isnull().sum()"
   ]
  },
  {
   "cell_type": "code",
   "execution_count": 84,
   "id": "f9fc09f1",
   "metadata": {},
   "outputs": [],
   "source": [
    "# remove ending .0s\n",
    "cols[\"HIC License\"] = cols[\"HIC License\"].astype(str)\n",
    "cols[\"HIC License\"] = cols[\"HIC License\"].str.split(\".\")\n",
    "cols[\"HIC License\"] = cols[\"HIC License\"].apply(lambda x: x[0])\n",
    "singleNumber = ['0','1','2','3','4','5','6','7','8','9']\n",
    "\n",
    "# remove invalid inputs\n",
    "cols[\"HIC License\"].replace(singleNumber,'N/A',inplace=True)\n",
    "cols[\"HIC License\"].replace('nan','N/A',inplace=True)\n",
    "\n",
    "# Fill missing value with NA\n",
    "cols[\"HIC License\"].fillna(\"N/A\", inplace=True)"
   ]
  },
  {
   "cell_type": "markdown",
   "id": "d64888a2",
   "metadata": {},
   "source": [
    "### Site Safety Mgr's First Name"
   ]
  },
  {
   "cell_type": "code",
   "execution_count": 85,
   "id": "355708ff",
   "metadata": {},
   "outputs": [
    {
     "data": {
      "text/plain": [
       "                  2417665\n",
       "N/A                   547\n",
       "JOHN                  503\n",
       "MICHAEL               476\n",
       "ADMINISTRATIVE        376\n",
       "                   ...   \n",
       "JERZY                   1\n",
       "RASHID                  1\n",
       "ALAAN                   1\n",
       "STERN                   1\n",
       "SABAN                   1\n",
       "Name: Site Safety Mgr's First Name, Length: 509, dtype: int64"
      ]
     },
     "execution_count": 85,
     "metadata": {},
     "output_type": "execute_result"
    }
   ],
   "source": [
    "cols[\"Site Safety Mgr's First Name\"].value_counts()"
   ]
  },
  {
   "cell_type": "code",
   "execution_count": 86,
   "id": "a1dfe6c7",
   "metadata": {},
   "outputs": [
    {
     "data": {
      "text/plain": [
       "0"
      ]
     },
     "execution_count": 86,
     "metadata": {},
     "output_type": "execute_result"
    }
   ],
   "source": [
    "cols[\"Site Safety Mgr's First Name\"].isnull().sum()"
   ]
  },
  {
   "cell_type": "code",
   "execution_count": 87,
   "id": "647fdd8e",
   "metadata": {},
   "outputs": [],
   "source": [
    "# some names contain '-', \" \", \"_\", \"/\" between name & other coarse strings\n",
    "cols[\"Site Safety Mgr's First Name\"] = cols[\"Site Safety Mgr's First Name\"].str.split(\" \").str[0]\n",
    "cols[\"Site Safety Mgr's First Name\"] = cols[\"Site Safety Mgr's First Name\"].str.split(\"-\").str[0]\n",
    "cols[\"Site Safety Mgr's First Name\"] = cols[\"Site Safety Mgr's First Name\"].str.split(\"/\").str[0]\n",
    "cols[\"Site Safety Mgr's First Name\"] = cols[\"Site Safety Mgr's First Name\"].str.split(\"\\\\\").str[0]\n",
    "cols[\"Site Safety Mgr's First Name\"] = cols[\"Site Safety Mgr's First Name\"].str.split(\"_\").str[0]\n",
    "\n",
    "# further clean the name\n",
    "cols[\"Site Safety Mgr's First Name\"] = cols[\"Site Safety Mgr's First Name\"].str.strip(\"_\")\n",
    "cols[\"Site Safety Mgr's First Name\"] = cols[\"Site Safety Mgr's First Name\"].str.strip(\"`\")\n",
    "cols[\"Site Safety Mgr's First Name\"] = cols[\"Site Safety Mgr's First Name\"].str.strip(\"\\\\\")\n",
    "cols[\"Site Safety Mgr's First Name\"] = cols[\"Site Safety Mgr's First Name\"].str.strip(\"{\")\n",
    "cols[\"Site Safety Mgr's First Name\"] = cols[\"Site Safety Mgr's First Name\"].str.strip(\".\")                                                                      \n",
    "cols[\"Site Safety Mgr's First Name\"] = cols[\"Site Safety Mgr's First Name\"].str.strip(\"-\")                                                                    \n",
    "cols[\"Site Safety Mgr's First Name\"] = cols[\"Site Safety Mgr's First Name\"].str.strip(\",\")\n",
    "\n",
    "# Not-a-name & missing value rows are given \"NA\"\n",
    "cols[\"Site Safety Mgr's First Name\"].str.isnumeric().replace(\"N/A\",inplace=True)\n",
    "cols[\"Site Safety Mgr's First Name\"].fillna(\"N/A\", inplace=True)"
   ]
  },
  {
   "cell_type": "markdown",
   "id": "2b649830",
   "metadata": {},
   "source": [
    "### Site Safety Mgr's Last Name"
   ]
  },
  {
   "cell_type": "code",
   "execution_count": 88,
   "id": "973c676e",
   "metadata": {},
   "outputs": [
    {
     "data": {
      "text/plain": [
       "             2417665\n",
       "N/A              522\n",
       "WAIVER           376\n",
       "ESPOSITO          96\n",
       "SAME              94\n",
       "              ...   \n",
       "CLAIRA             1\n",
       "SHUELEN            1\n",
       "ROSENBERG          1\n",
       "SARCONA            1\n",
       "CRISPIANO          1\n",
       "Name: Site Safety Mgr's Last Name, Length: 1238, dtype: int64"
      ]
     },
     "execution_count": 88,
     "metadata": {},
     "output_type": "execute_result"
    }
   ],
   "source": [
    "cols[\"Site Safety Mgr's Last Name\"].value_counts()"
   ]
  },
  {
   "cell_type": "code",
   "execution_count": 89,
   "id": "0ddef86c",
   "metadata": {},
   "outputs": [
    {
     "data": {
      "text/plain": [
       "0"
      ]
     },
     "execution_count": 89,
     "metadata": {},
     "output_type": "execute_result"
    }
   ],
   "source": [
    "cols[\"Site Safety Mgr's Last Name\"].isnull().sum()"
   ]
  },
  {
   "cell_type": "code",
   "execution_count": 90,
   "id": "71f2451c",
   "metadata": {},
   "outputs": [],
   "source": [
    "# some names contain '-', \" \", \"_\", \"/\" between name & other coarse strings\n",
    "cols[\"Site Safety Mgr's Last Name\"] = cols[\"Site Safety Mgr's Last Name\"].str.split(\" \").str[0]\n",
    "cols[\"Site Safety Mgr's Last Name\"] = cols[\"Site Safety Mgr's Last Name\"].str.split(\"-\").str[0]\n",
    "cols[\"Site Safety Mgr's Last Name\"] = cols[\"Site Safety Mgr's Last Name\"].str.split(\"/\").str[0]\n",
    "cols[\"Site Safety Mgr's Last Name\"] = cols[\"Site Safety Mgr's Last Name\"].str.split(\"\\\\\").str[0]\n",
    "cols[\"Site Safety Mgr's Last Name\"] = cols[\"Site Safety Mgr's Last Name\"].str.split(\"_\").str[0]\n",
    "\n",
    "# further clean the name\n",
    "cols[\"Site Safety Mgr's Last Name\"] = cols[\"Site Safety Mgr's Last Name\"].str.strip(\"_\")\n",
    "cols[\"Site Safety Mgr's Last Name\"] = cols[\"Site Safety Mgr's Last Name\"].str.strip(\"`\")\n",
    "cols[\"Site Safety Mgr's Last Name\"] = cols[\"Site Safety Mgr's Last Name\"].str.strip(\"\\\\\")\n",
    "cols[\"Site Safety Mgr's Last Name\"] = cols[\"Site Safety Mgr's Last Name\"].str.strip(\"{\")\n",
    "cols[\"Site Safety Mgr's Last Name\"] = cols[\"Site Safety Mgr's Last Name\"].str.strip(\".\")                                                                      \n",
    "cols[\"Site Safety Mgr's Last Name\"] = cols[\"Site Safety Mgr's Last Name\"].str.strip(\"-\")                                                                    \n",
    "cols[\"Site Safety Mgr's Last Name\"] = cols[\"Site Safety Mgr's Last Name\"].str.strip(\",\")\n",
    "\n",
    "# Not-a-name & missing value rows are given \"NA\"\n",
    "cols[\"Site Safety Mgr's Last Name\"].str.isnumeric().replace(\"N/A\",inplace=True)\n",
    "cols[\"Site Safety Mgr's Last Name\"].fillna(\"N/A\", inplace=True)"
   ]
  },
  {
   "cell_type": "markdown",
   "id": "5f270900",
   "metadata": {},
   "source": [
    "### Site Safety Mgr Business Name"
   ]
  },
  {
   "cell_type": "code",
   "execution_count": 91,
   "id": "ff019aab",
   "metadata": {},
   "outputs": [
    {
     "data": {
      "text/plain": [
       "                                    2419949\n",
       "N/A                                     621\n",
       "TOTAL SAFETY CONSULTING                 507\n",
       "SITE SAFETY LLC                         428\n",
       "NYC DEPT. OF BUILDINGS                  378\n",
       "                                     ...   \n",
       "B.T.U. CONTRACTING                        1\n",
       "RICHARD PLUMBING & HEASTING CO.I          1\n",
       "SELECT SAFTY CONSULANTS                   1\n",
       "TURNER CONSTRUCTION COMP                  1\n",
       "ACE PIPING CONTRACTORS                    1\n",
       "Name: Site Safety Mgr Business Name, Length: 1260, dtype: int64"
      ]
     },
     "execution_count": 91,
     "metadata": {},
     "output_type": "execute_result"
    }
   ],
   "source": [
    "cols[\"Site Safety Mgr Business Name\"].value_counts()"
   ]
  },
  {
   "cell_type": "code",
   "execution_count": 92,
   "id": "7b1bc23d",
   "metadata": {},
   "outputs": [
    {
     "data": {
      "text/plain": [
       "0"
      ]
     },
     "execution_count": 92,
     "metadata": {},
     "output_type": "execute_result"
    }
   ],
   "source": [
    "cols[\"Site Safety Mgr Business Name\"].isnull().sum()"
   ]
  },
  {
   "cell_type": "code",
   "execution_count": 93,
   "id": "caa27e81",
   "metadata": {},
   "outputs": [],
   "source": [
    "# clean the name\n",
    "cols[\"Site Safety Mgr Business Name\"] = cols[\"Site Safety Mgr Business Name\"].str.strip(\"_\")\n",
    "cols[\"Site Safety Mgr Business Name\"] = cols[\"Site Safety Mgr Business Name\"].str.strip(\"`\")\n",
    "cols[\"Site Safety Mgr Business Name\"] = cols[\"Site Safety Mgr Business Name\"].str.strip(\"\\\\\")\n",
    "cols[\"Site Safety Mgr Business Name\"] = cols[\"Site Safety Mgr Business Name\"].str.strip(\"{\")\n",
    "cols[\"Site Safety Mgr Business Name\"] = cols[\"Site Safety Mgr Business Name\"].str.strip(\".\")                                                                      \n",
    "cols[\"Site Safety Mgr Business Name\"] = cols[\"Site Safety Mgr Business Name\"].str.strip(\"-\")                                                                    \n",
    "cols[\"Site Safety Mgr Business Name\"] = cols[\"Site Safety Mgr Business Name\"].str.strip(\",\")\n",
    "\n",
    "\n",
    "# Not-a-name & missing value rows are given \"NA\"\n",
    "cols[\"Site Safety Mgr Business Name\"].str.isnumeric().replace(\"N/A\",inplace=True)\n",
    "cols[\"Site Safety Mgr Business Name\"].fillna(\"N/A\", inplace=True)"
   ]
  },
  {
   "cell_type": "markdown",
   "id": "c2af86f2",
   "metadata": {},
   "source": [
    "## Export Result Data Set Columns 21-40"
   ]
  },
  {
   "cell_type": "code",
   "execution_count": 94,
   "id": "2d408380",
   "metadata": {},
   "outputs": [],
   "source": [
    "cols.to_csv(r'./resultCols.csv', index = False)"
   ]
  },
  {
   "cell_type": "code",
   "execution_count": null,
   "id": "07ee9664",
   "metadata": {},
   "outputs": [],
   "source": []
  }
 ],
 "metadata": {
  "kernelspec": {
   "display_name": "Python 3 (ipykernel)",
   "language": "python",
   "name": "python3"
  },
  "language_info": {
   "codemirror_mode": {
    "name": "ipython",
    "version": 3
   },
   "file_extension": ".py",
   "mimetype": "text/x-python",
   "name": "python",
   "nbconvert_exporter": "python",
   "pygments_lexer": "ipython3",
   "version": "3.9.5"
  }
 },
 "nbformat": 4,
 "nbformat_minor": 5
}
